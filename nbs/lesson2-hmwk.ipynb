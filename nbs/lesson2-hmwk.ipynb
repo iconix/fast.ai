{
 "cells": [
  {
   "cell_type": "markdown",
   "metadata": {},
   "source": [
    "# State Farm Distracted Driver Detection: Revisited\n",
    "_Can computer vision spot distracted drivers?_\n",
    "\n",
    "---\n",
    "\n",
    "## Lesson 2 Homework Assignment\n",
    "\n",
    "\"Try to set up the data, train a model, and submit your predictions for this competition using only code that you write from scratch. If you look at the code provided for the class to get help, don't copy and paste it - but instead read the source code for vgg16.py and utils.py, and the keras documentation, and try to write and debug your own version\"\n",
    "\n",
    "Dataset: https://www.kaggle.com/c/state-farm-distracted-driver-detection"
   ]
  },
  {
   "cell_type": "code",
   "execution_count": 39,
   "metadata": {
    "collapsed": false
   },
   "outputs": [],
   "source": [
    "import os\n",
    "from glob import glob\n",
    "\n",
    "current_dir = os.getcwd()\n",
    "LESSON_HOME_DIR = current_dir\n",
    "DATA_HOME_DIR = current_dir + '/data/statefarm/'\n",
    "\n",
    "# point to your training images\n",
    "train_dir = DATA_HOME_DIR + 'train'\n",
    "\n",
    "# point to the 'driver_imgs_list.csv'\n",
    "lookup = DATA_HOME_DIR + 'driver_imgs_list.csv'\n",
    "\n",
    "# point to the validation directory, which will be created in the next block\n",
    "val_dir = DATA_HOME_DIR + 'valid'\n",
    "\n",
    "sample_dir = DATA_HOME_DIR + 'sample'\n",
    "\n",
    "test_dir = DATA_HOME_DIR + 'test'"
   ]
  },
  {
   "cell_type": "markdown",
   "metadata": {},
   "source": [
    "### Download dataset using the [Kaggle CLI](http://wiki.fast.ai/index.php/Kaggle_CLI):\n",
    "\n",
    "After running `kg config -g -u <username> -p <password> -c state-farm-distracted-driver-detection`\n",
    "\n",
    "**Careful**: the `unzip` process tends to freeze the Jupyter environment... it's actually safer to just run `unzip` on the command line. This is here more as an example of entirely documenting a data process."
   ]
  },
  {
   "cell_type": "code",
   "execution_count": null,
   "metadata": {
    "collapsed": false
   },
   "outputs": [],
   "source": [
    "%cd $DATA_HOME_DIR"
   ]
  },
  {
   "cell_type": "code",
   "execution_count": null,
   "metadata": {
    "collapsed": false
   },
   "outputs": [],
   "source": [
    "!kg download\n",
    "!unzip sample_submission.csv.zip\n",
    "!unzip imgs.zip\n",
    "!unzip driver_imgs_list.csv.zip"
   ]
  },
  {
   "cell_type": "markdown",
   "metadata": {},
   "source": [
    "Unzipped contents:\n",
    "1. `sample_submission.csv`\n",
    "2. `driver_imgs_list.csv`\n",
    "3. `test/`: 79726 images (`ls test/ | wc -l`)\n",
    "4. `train/`: 22424 images\n",
    "    - `c0/`: 2489; `c1/`: 2267; `c2/`: 2317; `c3/`: 2346; `c4/`: 2326; `c5/`: 2312; `c6/`: 2325; `c7/`: 2002; `c8/`: 1911; `c9/`: 2129"
   ]
  },
  {
   "cell_type": "code",
   "execution_count": null,
   "metadata": {
    "collapsed": false
   },
   "outputs": [],
   "source": [
    "%cd $train_dir\n",
    "printNumImages = 'Train file count by class: '\n",
    "for d in sorted(glob('c?')):\n",
    "    numImgs = !ls \"$train_dir\"/\"$d\"/ | wc -l\n",
    "    printNumImages += d + ': ' + str(numImgs[0]) + '; '\n",
    "print printNumImages"
   ]
  },
  {
   "cell_type": "code",
   "execution_count": null,
   "metadata": {
    "collapsed": false
   },
   "outputs": [],
   "source": [
    "%cd $LESSON_HOME_DIR"
   ]
  },
  {
   "cell_type": "markdown",
   "metadata": {},
   "source": [
    "### Create the validation set ([help](http://forums.fast.ai/t/how-to-create-the-state-farm-comp-validation-set/1306)):"
   ]
  },
  {
   "cell_type": "markdown",
   "metadata": {},
   "source": [
    "Aiming for 20% of the training set.\n",
    "\n",
    "Remember that the training and validation set should contain _different drivers_, as mentioned on the Kaggle competition page."
   ]
  },
  {
   "cell_type": "code",
   "execution_count": 2,
   "metadata": {
    "collapsed": false
   },
   "outputs": [],
   "source": [
    "import random\n",
    "import pandas as pd\n",
    "import numpy as np"
   ]
  },
  {
   "cell_type": "code",
   "execution_count": null,
   "metadata": {
    "collapsed": false
   },
   "outputs": [],
   "source": [
    "# creates a directory, called 'valid', and into it, creates 10 subdirs, one for each class.\n",
    "\n",
    "if not os.path.exists(val_dir):\n",
    "    os.makedirs(val_dir)\n",
    "    %cd $train_dir\n",
    "    for d in glob('c?'):\n",
    "        os.mkdir(val_dir + '/' + d)\n",
    "    # read in the 'driver_imgs_list.csv' file\n",
    "    df = pd.read_csv(lookup)\n",
    "    # Pick 20% (1/5) of the drivers at random\n",
    "    drivers = df.subject.unique()\n",
    "    driver_names_for_validation = random.sample(drivers, drivers.size / 5)\n",
    "    # filter df by selecting rows with the drivers (subjects) we want\n",
    "    df = df[df['subject'].isin(driver_names_for_validation)]\n",
    "    # do the move here:\n",
    "    filesMoved = 0\n",
    "    for index, row in df.iterrows():\n",
    "        move_from = train_dir + '/' +  row['classname'] + '/' + row['img']\n",
    "        move_to = val_dir + '/' +  row['classname'] + '/' + row['img']\n",
    "        os.rename(move_from, move_to)\n",
    "        filesMoved += 1\n",
    "    print 'files to move: ', df.shape[0]\n",
    "    print 'files moved:   ', filesMoved\n",
    "\n",
    "%cd $val_dir\n",
    "printNumImages = 'Valid file count: '\n",
    "for d in sorted(glob('c?')):\n",
    "    numImgs = !ls \"$val_dir\"/\"$d\"/ | wc -l\n",
    "    printNumImages += d + ': ' + str(numImgs[0]) + '; '\n",
    "print printNumImages\n",
    "\n",
    "%cd $LESSON_HOME_DIR"
   ]
  },
  {
   "cell_type": "markdown",
   "metadata": {},
   "source": [
    "### Create the sample set ([help](https://github.com/fastai/courses/blob/master/deeplearning1/nbs/statefarm-sample.ipynb))"
   ]
  },
  {
   "cell_type": "code",
   "execution_count": null,
   "metadata": {
    "collapsed": false
   },
   "outputs": [],
   "source": [
    "from shutil import copyfile\n",
    "\n",
    "if not os.path.exists(sample_dir + '/train'):\n",
    "    os.makedirs(sample_dir + '/train')\n",
    "    %cd $train_dir\n",
    "    for d in glob('c?'):\n",
    "        os.mkdir(sample_dir + '/train/' + d)\n",
    "    g = glob('c?/*.jpg')\n",
    "    shuf = np.random.permutation(g)\n",
    "    for i in range(1500): copyfile(shuf[i], sample_dir + '/train/' + shuf[i])\n",
    "\n",
    "if not os.path.exists(sample_dir + '/valid'):\n",
    "    os.makedirs(sample_dir + '/valid')\n",
    "    %cd $val_dir\n",
    "    for d in glob('c?'):\n",
    "        os.mkdir(sample_dir + '/valid/' + d)\n",
    "    g = glob('c?/*.jpg')\n",
    "    shuf = np.random.permutation(g)\n",
    "    for i in range(1000): copyfile(shuf[i], sample_dir + '/valid/' + shuf[i])\n",
    "        \n",
    "%cd $LESSON_HOME_DIR"
   ]
  },
  {
   "cell_type": "markdown",
   "metadata": {},
   "source": [
    "### Move the test set to 'unknown' directory\n",
    "Represents the single 'unknown' class for the test set - needed for submission later"
   ]
  },
  {
   "cell_type": "code",
   "execution_count": 47,
   "metadata": {
    "collapsed": false
   },
   "outputs": [
    {
     "name": "stdout",
     "output_type": "stream",
     "text": [
      "/home/ubuntu/hmwk/nbs/data/statefarm/test\n"
     ]
    }
   ],
   "source": [
    "if not os.path.exists(test_dir + '/unknown'):\n",
    "    os.makedirs(test_dir + '/unknown')\n",
    "    %cd $test_dir\n",
    "    for img in glob('*.jpg'):\n",
    "        os.rename(test_dir + '/' + str(img), test_dir + '/unknown/' + str(img))"
   ]
  },
  {
   "cell_type": "markdown",
   "metadata": {},
   "source": [
    "### Basic Configuration"
   ]
  },
  {
   "cell_type": "code",
   "execution_count": 3,
   "metadata": {
    "collapsed": true
   },
   "outputs": [],
   "source": [
    "%matplotlib inline"
   ]
  },
  {
   "cell_type": "code",
   "execution_count": 4,
   "metadata": {
    "collapsed": true
   },
   "outputs": [],
   "source": [
    "#path = DATA_HOME_DIR + 'sample/'\n",
    "path = DATA_HOME_DIR\n",
    "model_path = path + 'models/'\n",
    "if not os.path.exists(model_path): os.mkdir(model_path)"
   ]
  },
  {
   "cell_type": "code",
   "execution_count": 5,
   "metadata": {
    "collapsed": false
   },
   "outputs": [
    {
     "name": "stderr",
     "output_type": "stream",
     "text": [
      "Using gpu device 0: Tesla K80 (CNMeM is disabled, cuDNN 5103)\n",
      "/home/ubuntu/anaconda2/lib/python2.7/site-packages/theano/sandbox/cuda/__init__.py:600: UserWarning: Your cuDNN version is more recent than the one Theano officially supports. If you see any problems, try updating Theano or downgrading cuDNN to version 5.\n",
      "  warnings.warn(warn)\n",
      "Using Theano backend.\n"
     ]
    }
   ],
   "source": [
    "import utils; reload(utils)\n",
    "from utils import *"
   ]
  },
  {
   "cell_type": "code",
   "execution_count": 6,
   "metadata": {
    "collapsed": true
   },
   "outputs": [],
   "source": [
    "# As large as you can, but no larger than 64 is recommended. \n",
    "# If you have an older or cheaper GPU, you'll run out of memory, so will have to decrease this.\n",
    "batch_size=64"
   ]
  },
  {
   "cell_type": "markdown",
   "metadata": {},
   "source": [
    "Loading and resizing the images every time we want to use them isn't necessary - instead we should save the processed arrays. By far the fastest way to save and load numpy arrays is using bcolz. This also compresses the arrays, so we save disk space. Here are the functions we'll use to save and load using bcolz."
   ]
  },
  {
   "cell_type": "code",
   "execution_count": 7,
   "metadata": {
    "collapsed": true
   },
   "outputs": [],
   "source": [
    "import bcolz\n",
    "def save_array(fname, arr): c=bcolz.carray(arr, rootdir=fname, mode='w'); c.flush()\n",
    "def load_array(fname): return bcolz.open(fname)[:]"
   ]
  },
  {
   "cell_type": "markdown",
   "metadata": {},
   "source": [
    "Keras returns classes as a single column, so we convert to one hot encoding"
   ]
  },
  {
   "cell_type": "code",
   "execution_count": 8,
   "metadata": {
    "collapsed": true
   },
   "outputs": [],
   "source": [
    "def onehot(x): return np.array(OneHotEncoder().fit_transform(x.reshape(-1,1)).todense())"
   ]
  },
  {
   "cell_type": "markdown",
   "metadata": {},
   "source": [
    "A simple function for fitting models that saves us a little typing"
   ]
  },
  {
   "cell_type": "code",
   "execution_count": 9,
   "metadata": {
    "collapsed": true
   },
   "outputs": [],
   "source": [
    "def fit_model(model, batches, val_batches, nb_epoch=1):\n",
    "    model.fit_generator(batches, samples_per_epoch=batches.N, nb_epoch=nb_epoch, \n",
    "                        validation_data=val_batches, nb_val_samples=val_batches.N)"
   ]
  },
  {
   "cell_type": "markdown",
   "metadata": {},
   "source": [
    "### Prepare the data\n",
    "\n",
    "\n",
    "Our overall approach here will be:\n",
    "1. Get the true labels for every image\n",
    "2. Finetune the model by replacing the final linear layer that mapped input to 1,000 imagenet category predictions with a final linear layer that maps input to 10 StateFarm category predictions\n",
    "3. Fit the model by re-training the new final linear layer w.r.t. the true labels from step 1."
   ]
  },
  {
   "cell_type": "code",
   "execution_count": 10,
   "metadata": {
    "collapsed": false
   },
   "outputs": [],
   "source": [
    "# Import Vgg16, and instantiate\n",
    "import vgg16; reload(vgg16)\n",
    "from vgg16 import Vgg16\n",
    "\n",
    "vgg = Vgg16()\n",
    "model = vgg.model"
   ]
  },
  {
   "cell_type": "markdown",
   "metadata": {},
   "source": [
    "Grab training and validation batches..."
   ]
  },
  {
   "cell_type": "code",
   "execution_count": 11,
   "metadata": {
    "collapsed": false
   },
   "outputs": [
    {
     "name": "stdout",
     "output_type": "stream",
     "text": [
      "Found 4126 images belonging to 10 classes.\n",
      "Found 18298 images belonging to 10 classes.\n"
     ]
    }
   ],
   "source": [
    "# Use batch size of 1 since we're just doing preprocessing on the CPU\n",
    "val_preprocess = get_batches(path+'valid', shuffle=False, batch_size=1)\n",
    "trn_preprocess = get_batches(path+'train', shuffle=False, batch_size=1)"
   ]
  },
  {
   "cell_type": "markdown",
   "metadata": {},
   "source": [
    "Let's look at the class data for these batches, in both single-column and one-hot encoded forms"
   ]
  },
  {
   "cell_type": "code",
   "execution_count": 12,
   "metadata": {
    "collapsed": false
   },
   "outputs": [],
   "source": [
    "val_classes = val_preprocess.classes\n",
    "trn_classes = trn_preprocess.classes\n",
    "val_labels = onehot(val_classes)\n",
    "trn_labels = onehot(trn_classes)"
   ]
  },
  {
   "cell_type": "code",
   "execution_count": 13,
   "metadata": {
    "collapsed": false
   },
   "outputs": [
    {
     "data": {
      "text/plain": [
       "((18298,), (18298, 10))"
      ]
     },
     "execution_count": 13,
     "metadata": {},
     "output_type": "execute_result"
    }
   ],
   "source": [
    "trn_classes.shape, trn_labels.shape"
   ]
  },
  {
   "cell_type": "code",
   "execution_count": 14,
   "metadata": {
    "collapsed": false
   },
   "outputs": [
    {
     "data": {
      "text/plain": [
       "(array([0, 0, 0, 0], dtype=int32),\n",
       " array([[ 1.,  0.,  0.,  0.,  0.,  0.,  0.,  0.,  0.,  0.],\n",
       "        [ 1.,  0.,  0.,  0.,  0.,  0.,  0.,  0.,  0.,  0.],\n",
       "        [ 1.,  0.,  0.,  0.,  0.,  0.,  0.,  0.,  0.,  0.],\n",
       "        [ 1.,  0.,  0.,  0.,  0.,  0.,  0.,  0.,  0.,  0.]]))"
      ]
     },
     "execution_count": 14,
     "metadata": {},
     "output_type": "execute_result"
    }
   ],
   "source": [
    "trn_classes[:4], trn_labels[:4]"
   ]
  },
  {
   "cell_type": "markdown",
   "metadata": {},
   "source": [
    "Now we have the labels. Let's get the datasets we want to predict on next."
   ]
  },
  {
   "cell_type": "markdown",
   "metadata": {},
   "source": [
    "Note that `get_data` runs `get_batches` and then concatenates the arrays from all the batches"
   ]
  },
  {
   "cell_type": "code",
   "execution_count": null,
   "metadata": {
    "collapsed": true
   },
   "outputs": [],
   "source": [
    "??get_data"
   ]
  },
  {
   "cell_type": "code",
   "execution_count": 15,
   "metadata": {
    "collapsed": false
   },
   "outputs": [
    {
     "name": "stdout",
     "output_type": "stream",
     "text": [
      "Found 18298 images belonging to 10 classes.\n",
      "Found 4126 images belonging to 10 classes.\n"
     ]
    }
   ],
   "source": [
    "trn_data_path = model_path+'train_data.bc';\n",
    "val_data_path = model_path+'valid_data.bc';\n",
    "\n",
    "if os.path.exists(trn_data_path):\n",
    "    trn_data = load_array(trn_data_path)\n",
    "else:\n",
    "    trn_data = get_data(path+'train')\n",
    "    save_array(trn_data_path, trn_data)\n",
    "    \n",
    "if os.path.exists(val_data_path):\n",
    "    val_data = load_array(val_data_path)\n",
    "else:\n",
    "    val_data = get_data(path+'valid')\n",
    "    save_array(val_data_path, val_data)"
   ]
  },
  {
   "cell_type": "markdown",
   "metadata": {},
   "source": [
    "`.shape` here represents (num_images, num_colors (RGB=3), width_in_pixels, height_in_pixels)."
   ]
  },
  {
   "cell_type": "code",
   "execution_count": 16,
   "metadata": {
    "collapsed": false
   },
   "outputs": [
    {
     "data": {
      "text/plain": [
       "((18298, 3, 224, 224), (4126, 3, 224, 224))"
      ]
     },
     "execution_count": 16,
     "metadata": {},
     "output_type": "execute_result"
    }
   ],
   "source": [
    "trn_data.shape, val_data.shape"
   ]
  },
  {
   "cell_type": "markdown",
   "metadata": {},
   "source": [
    "### Finetuning for State Farm"
   ]
  },
  {
   "cell_type": "markdown",
   "metadata": {},
   "source": [
    "If we take a look at our Vgg model, we'll see that the final layer is a dense."
   ]
  },
  {
   "cell_type": "code",
   "execution_count": 17,
   "metadata": {
    "collapsed": false
   },
   "outputs": [
    {
     "name": "stdout",
     "output_type": "stream",
     "text": [
      "____________________________________________________________________________________________________\n",
      "Layer (type)                     Output Shape          Param #     Connected to                     \n",
      "====================================================================================================\n",
      "lambda_1 (Lambda)                (None, 3, 224, 224)   0           lambda_input_1[0][0]             \n",
      "____________________________________________________________________________________________________\n",
      "zeropadding2d_1 (ZeroPadding2D)  (None, 3, 226, 226)   0           lambda_1[0][0]                   \n",
      "____________________________________________________________________________________________________\n",
      "convolution2d_1 (Convolution2D)  (None, 64, 224, 224)  1792        zeropadding2d_1[0][0]            \n",
      "____________________________________________________________________________________________________\n",
      "zeropadding2d_2 (ZeroPadding2D)  (None, 64, 226, 226)  0           convolution2d_1[0][0]            \n",
      "____________________________________________________________________________________________________\n",
      "convolution2d_2 (Convolution2D)  (None, 64, 224, 224)  36928       zeropadding2d_2[0][0]            \n",
      "____________________________________________________________________________________________________\n",
      "maxpooling2d_1 (MaxPooling2D)    (None, 64, 112, 112)  0           convolution2d_2[0][0]            \n",
      "____________________________________________________________________________________________________\n",
      "zeropadding2d_3 (ZeroPadding2D)  (None, 64, 114, 114)  0           maxpooling2d_1[0][0]             \n",
      "____________________________________________________________________________________________________\n",
      "convolution2d_3 (Convolution2D)  (None, 128, 112, 112) 73856       zeropadding2d_3[0][0]            \n",
      "____________________________________________________________________________________________________\n",
      "zeropadding2d_4 (ZeroPadding2D)  (None, 128, 114, 114) 0           convolution2d_3[0][0]            \n",
      "____________________________________________________________________________________________________\n",
      "convolution2d_4 (Convolution2D)  (None, 128, 112, 112) 147584      zeropadding2d_4[0][0]            \n",
      "____________________________________________________________________________________________________\n",
      "maxpooling2d_2 (MaxPooling2D)    (None, 128, 56, 56)   0           convolution2d_4[0][0]            \n",
      "____________________________________________________________________________________________________\n",
      "zeropadding2d_5 (ZeroPadding2D)  (None, 128, 58, 58)   0           maxpooling2d_2[0][0]             \n",
      "____________________________________________________________________________________________________\n",
      "convolution2d_5 (Convolution2D)  (None, 256, 56, 56)   295168      zeropadding2d_5[0][0]            \n",
      "____________________________________________________________________________________________________\n",
      "zeropadding2d_6 (ZeroPadding2D)  (None, 256, 58, 58)   0           convolution2d_5[0][0]            \n",
      "____________________________________________________________________________________________________\n",
      "convolution2d_6 (Convolution2D)  (None, 256, 56, 56)   590080      zeropadding2d_6[0][0]            \n",
      "____________________________________________________________________________________________________\n",
      "zeropadding2d_7 (ZeroPadding2D)  (None, 256, 58, 58)   0           convolution2d_6[0][0]            \n",
      "____________________________________________________________________________________________________\n",
      "convolution2d_7 (Convolution2D)  (None, 256, 56, 56)   590080      zeropadding2d_7[0][0]            \n",
      "____________________________________________________________________________________________________\n",
      "maxpooling2d_3 (MaxPooling2D)    (None, 256, 28, 28)   0           convolution2d_7[0][0]            \n",
      "____________________________________________________________________________________________________\n",
      "zeropadding2d_8 (ZeroPadding2D)  (None, 256, 30, 30)   0           maxpooling2d_3[0][0]             \n",
      "____________________________________________________________________________________________________\n",
      "convolution2d_8 (Convolution2D)  (None, 512, 28, 28)   1180160     zeropadding2d_8[0][0]            \n",
      "____________________________________________________________________________________________________\n",
      "zeropadding2d_9 (ZeroPadding2D)  (None, 512, 30, 30)   0           convolution2d_8[0][0]            \n",
      "____________________________________________________________________________________________________\n",
      "convolution2d_9 (Convolution2D)  (None, 512, 28, 28)   2359808     zeropadding2d_9[0][0]            \n",
      "____________________________________________________________________________________________________\n",
      "zeropadding2d_10 (ZeroPadding2D) (None, 512, 30, 30)   0           convolution2d_9[0][0]            \n",
      "____________________________________________________________________________________________________\n",
      "convolution2d_10 (Convolution2D) (None, 512, 28, 28)   2359808     zeropadding2d_10[0][0]           \n",
      "____________________________________________________________________________________________________\n",
      "maxpooling2d_4 (MaxPooling2D)    (None, 512, 14, 14)   0           convolution2d_10[0][0]           \n",
      "____________________________________________________________________________________________________\n",
      "zeropadding2d_11 (ZeroPadding2D) (None, 512, 16, 16)   0           maxpooling2d_4[0][0]             \n",
      "____________________________________________________________________________________________________\n",
      "convolution2d_11 (Convolution2D) (None, 512, 14, 14)   2359808     zeropadding2d_11[0][0]           \n",
      "____________________________________________________________________________________________________\n",
      "zeropadding2d_12 (ZeroPadding2D) (None, 512, 16, 16)   0           convolution2d_11[0][0]           \n",
      "____________________________________________________________________________________________________\n",
      "convolution2d_12 (Convolution2D) (None, 512, 14, 14)   2359808     zeropadding2d_12[0][0]           \n",
      "____________________________________________________________________________________________________\n",
      "zeropadding2d_13 (ZeroPadding2D) (None, 512, 16, 16)   0           convolution2d_12[0][0]           \n",
      "____________________________________________________________________________________________________\n",
      "convolution2d_13 (Convolution2D) (None, 512, 14, 14)   2359808     zeropadding2d_13[0][0]           \n",
      "____________________________________________________________________________________________________\n",
      "maxpooling2d_5 (MaxPooling2D)    (None, 512, 7, 7)     0           convolution2d_13[0][0]           \n",
      "____________________________________________________________________________________________________\n",
      "flatten_1 (Flatten)              (None, 25088)         0           maxpooling2d_5[0][0]             \n",
      "____________________________________________________________________________________________________\n",
      "dense_1 (Dense)                  (None, 4096)          102764544   flatten_1[0][0]                  \n",
      "____________________________________________________________________________________________________\n",
      "dropout_1 (Dropout)              (None, 4096)          0           dense_1[0][0]                    \n",
      "____________________________________________________________________________________________________\n",
      "dense_2 (Dense)                  (None, 4096)          16781312    dropout_1[0][0]                  \n",
      "____________________________________________________________________________________________________\n",
      "dropout_2 (Dropout)              (None, 4096)          0           dense_2[0][0]                    \n",
      "____________________________________________________________________________________________________\n",
      "dense_3 (Dense)                  (None, 1000)          4097000     dropout_2[0][0]                  \n",
      "====================================================================================================\n",
      "Total params: 138357544\n",
      "____________________________________________________________________________________________________\n"
     ]
    }
   ],
   "source": [
    "vgg.model.summary()"
   ]
  },
  {
   "cell_type": "markdown",
   "metadata": {},
   "source": [
    "The final dense layer is what mapped the final intermediate layer to the categories specified by the ImageNet competition. Since we'd like to map to different categories, let's replace this final dense layer with our own (this is what _finetuning_ essentially is!)"
   ]
  },
  {
   "cell_type": "code",
   "execution_count": null,
   "metadata": {
    "collapsed": false
   },
   "outputs": [],
   "source": [
    "??vgg.finetune"
   ]
  },
  {
   "cell_type": "code",
   "execution_count": 18,
   "metadata": {
    "collapsed": true
   },
   "outputs": [],
   "source": [
    "model.pop()\n",
    "for layer in model.layers: layer.trainable=False"
   ]
  },
  {
   "cell_type": "markdown",
   "metadata": {},
   "source": [
    "Note that we fix the weights in all the remaining layers by setting `layer.trainable=False` - we aren't looking to learn new parameters for these others, only our new linear layer."
   ]
  },
  {
   "cell_type": "markdown",
   "metadata": {},
   "source": [
    "### Train linear model on predictions"
   ]
  },
  {
   "cell_type": "code",
   "execution_count": 19,
   "metadata": {
    "collapsed": true
   },
   "outputs": [],
   "source": [
    "model.add(Dense(10, activation='softmax'))"
   ]
  },
  {
   "cell_type": "code",
   "execution_count": 20,
   "metadata": {
    "collapsed": false
   },
   "outputs": [
    {
     "name": "stdout",
     "output_type": "stream",
     "text": [
      "____________________________________________________________________________________________________\n",
      "Layer (type)                     Output Shape          Param #     Connected to                     \n",
      "====================================================================================================\n",
      "lambda_1 (Lambda)                (None, 3, 224, 224)   0           lambda_input_1[0][0]             \n",
      "____________________________________________________________________________________________________\n",
      "zeropadding2d_1 (ZeroPadding2D)  (None, 3, 226, 226)   0           lambda_1[0][0]                   \n",
      "____________________________________________________________________________________________________\n",
      "convolution2d_1 (Convolution2D)  (None, 64, 224, 224)  0           zeropadding2d_1[0][0]            \n",
      "____________________________________________________________________________________________________\n",
      "zeropadding2d_2 (ZeroPadding2D)  (None, 64, 226, 226)  0           convolution2d_1[0][0]            \n",
      "____________________________________________________________________________________________________\n",
      "convolution2d_2 (Convolution2D)  (None, 64, 224, 224)  0           zeropadding2d_2[0][0]            \n",
      "____________________________________________________________________________________________________\n",
      "maxpooling2d_1 (MaxPooling2D)    (None, 64, 112, 112)  0           convolution2d_2[0][0]            \n",
      "____________________________________________________________________________________________________\n",
      "zeropadding2d_3 (ZeroPadding2D)  (None, 64, 114, 114)  0           maxpooling2d_1[0][0]             \n",
      "____________________________________________________________________________________________________\n",
      "convolution2d_3 (Convolution2D)  (None, 128, 112, 112) 0           zeropadding2d_3[0][0]            \n",
      "____________________________________________________________________________________________________\n",
      "zeropadding2d_4 (ZeroPadding2D)  (None, 128, 114, 114) 0           convolution2d_3[0][0]            \n",
      "____________________________________________________________________________________________________\n",
      "convolution2d_4 (Convolution2D)  (None, 128, 112, 112) 0           zeropadding2d_4[0][0]            \n",
      "____________________________________________________________________________________________________\n",
      "maxpooling2d_2 (MaxPooling2D)    (None, 128, 56, 56)   0           convolution2d_4[0][0]            \n",
      "____________________________________________________________________________________________________\n",
      "zeropadding2d_5 (ZeroPadding2D)  (None, 128, 58, 58)   0           maxpooling2d_2[0][0]             \n",
      "____________________________________________________________________________________________________\n",
      "convolution2d_5 (Convolution2D)  (None, 256, 56, 56)   0           zeropadding2d_5[0][0]            \n",
      "____________________________________________________________________________________________________\n",
      "zeropadding2d_6 (ZeroPadding2D)  (None, 256, 58, 58)   0           convolution2d_5[0][0]            \n",
      "____________________________________________________________________________________________________\n",
      "convolution2d_6 (Convolution2D)  (None, 256, 56, 56)   0           zeropadding2d_6[0][0]            \n",
      "____________________________________________________________________________________________________\n",
      "zeropadding2d_7 (ZeroPadding2D)  (None, 256, 58, 58)   0           convolution2d_6[0][0]            \n",
      "____________________________________________________________________________________________________\n",
      "convolution2d_7 (Convolution2D)  (None, 256, 56, 56)   0           zeropadding2d_7[0][0]            \n",
      "____________________________________________________________________________________________________\n",
      "maxpooling2d_3 (MaxPooling2D)    (None, 256, 28, 28)   0           convolution2d_7[0][0]            \n",
      "____________________________________________________________________________________________________\n",
      "zeropadding2d_8 (ZeroPadding2D)  (None, 256, 30, 30)   0           maxpooling2d_3[0][0]             \n",
      "____________________________________________________________________________________________________\n",
      "convolution2d_8 (Convolution2D)  (None, 512, 28, 28)   0           zeropadding2d_8[0][0]            \n",
      "____________________________________________________________________________________________________\n",
      "zeropadding2d_9 (ZeroPadding2D)  (None, 512, 30, 30)   0           convolution2d_8[0][0]            \n",
      "____________________________________________________________________________________________________\n",
      "convolution2d_9 (Convolution2D)  (None, 512, 28, 28)   0           zeropadding2d_9[0][0]            \n",
      "____________________________________________________________________________________________________\n",
      "zeropadding2d_10 (ZeroPadding2D) (None, 512, 30, 30)   0           convolution2d_9[0][0]            \n",
      "____________________________________________________________________________________________________\n",
      "convolution2d_10 (Convolution2D) (None, 512, 28, 28)   0           zeropadding2d_10[0][0]           \n",
      "____________________________________________________________________________________________________\n",
      "maxpooling2d_4 (MaxPooling2D)    (None, 512, 14, 14)   0           convolution2d_10[0][0]           \n",
      "____________________________________________________________________________________________________\n",
      "zeropadding2d_11 (ZeroPadding2D) (None, 512, 16, 16)   0           maxpooling2d_4[0][0]             \n",
      "____________________________________________________________________________________________________\n",
      "convolution2d_11 (Convolution2D) (None, 512, 14, 14)   0           zeropadding2d_11[0][0]           \n",
      "____________________________________________________________________________________________________\n",
      "zeropadding2d_12 (ZeroPadding2D) (None, 512, 16, 16)   0           convolution2d_11[0][0]           \n",
      "____________________________________________________________________________________________________\n",
      "convolution2d_12 (Convolution2D) (None, 512, 14, 14)   0           zeropadding2d_12[0][0]           \n",
      "____________________________________________________________________________________________________\n",
      "zeropadding2d_13 (ZeroPadding2D) (None, 512, 16, 16)   0           convolution2d_12[0][0]           \n",
      "____________________________________________________________________________________________________\n",
      "convolution2d_13 (Convolution2D) (None, 512, 14, 14)   0           zeropadding2d_13[0][0]           \n",
      "____________________________________________________________________________________________________\n",
      "maxpooling2d_5 (MaxPooling2D)    (None, 512, 7, 7)     0           convolution2d_13[0][0]           \n",
      "____________________________________________________________________________________________________\n",
      "flatten_1 (Flatten)              (None, 25088)         0           maxpooling2d_5[0][0]             \n",
      "____________________________________________________________________________________________________\n",
      "dense_1 (Dense)                  (None, 4096)          0           flatten_1[0][0]                  \n",
      "____________________________________________________________________________________________________\n",
      "dropout_1 (Dropout)              (None, 4096)          0           dense_1[0][0]                    \n",
      "____________________________________________________________________________________________________\n",
      "dense_2 (Dense)                  (None, 4096)          0           dropout_1[0][0]                  \n",
      "____________________________________________________________________________________________________\n",
      "dropout_2 (Dropout)              (None, 4096)          0           dense_2[0][0]                    \n",
      "____________________________________________________________________________________________________\n",
      "dense_4 (Dense)                  (None, 10)            40970       dropout_2[0][0]                  \n",
      "====================================================================================================\n",
      "Total params: 40970\n",
      "____________________________________________________________________________________________________\n"
     ]
    }
   ],
   "source": [
    "model.summary()"
   ]
  },
  {
   "cell_type": "markdown",
   "metadata": {},
   "source": [
    "Time to set our batches to use the preprocessed images and layers prepped earlier (_shuffling_ the training batches this time to add more randomness in our epochs), compile our updated model, and fit the last layer of the model."
   ]
  },
  {
   "cell_type": "code",
   "execution_count": 21,
   "metadata": {
    "collapsed": true
   },
   "outputs": [],
   "source": [
    "gen=image.ImageDataGenerator()\n",
    "trn_batches = gen.flow(trn_data, trn_labels, batch_size=batch_size, shuffle=True)\n",
    "val_batches = gen.flow(val_data, val_labels, batch_size=batch_size, shuffle=False)"
   ]
  },
  {
   "cell_type": "code",
   "execution_count": 22,
   "metadata": {
    "collapsed": true
   },
   "outputs": [],
   "source": [
    "opt = Adam()\n",
    "model.compile(opt, loss='categorical_crossentropy', metrics=['accuracy'])"
   ]
  },
  {
   "cell_type": "code",
   "execution_count": 23,
   "metadata": {
    "collapsed": false
   },
   "outputs": [
    {
     "name": "stdout",
     "output_type": "stream",
     "text": [
      "Epoch 1/3\n",
      "18298/18298 [==============================] - 541s - loss: 1.8822 - acc: 0.4769 - val_loss: 1.7038 - val_acc: 0.4767\n",
      "Epoch 2/3\n",
      "18298/18298 [==============================] - 542s - loss: 0.9822 - acc: 0.6849 - val_loss: 1.8349 - val_acc: 0.4673\n",
      "Epoch 3/3\n",
      "18298/18298 [==============================] - 542s - loss: 0.8670 - acc: 0.7205 - val_loss: 1.8553 - val_acc: 0.4753\n"
     ]
    }
   ],
   "source": [
    "fit_model(model, trn_batches, val_batches, nb_epoch=3)"
   ]
  },
  {
   "cell_type": "markdown",
   "metadata": {},
   "source": [
    "Save weights now for reuse."
   ]
  },
  {
   "cell_type": "code",
   "execution_count": 25,
   "metadata": {
    "collapsed": true
   },
   "outputs": [],
   "source": [
    "finetune1_path = model_path+'finetune1.h5'\n",
    "if not os.path.exists(finetune1_path):\n",
    "    model.save_weights(finetune1_path)\n",
    "model.load_weights(finetune1_path)"
   ]
  },
  {
   "cell_type": "markdown",
   "metadata": {},
   "source": [
    "### Finetuning Multiple Layers"
   ]
  },
  {
   "cell_type": "markdown",
   "metadata": {},
   "source": [
    "Finetuning from the first dense layer, on.\n",
    "\n",
    "Note that since we're training more layers, and since we've already optimized the last layer, we should use a lower learning rate than previously ([source](https://github.com/fastai/courses/blob/master/deeplearning1/nbs/lesson2.ipynb))."
   ]
  },
  {
   "cell_type": "code",
   "execution_count": 26,
   "metadata": {
    "collapsed": false
   },
   "outputs": [
    {
     "name": "stdout",
     "output_type": "stream",
     "text": [
      "Epoch 1/5\n",
      "18298/18298 [==============================] - 540s - loss: 0.7230 - acc: 0.7629 - val_loss: 1.7471 - val_acc: 0.4867\n",
      "Epoch 2/5\n",
      "18298/18298 [==============================] - 541s - loss: 0.6709 - acc: 0.7754 - val_loss: 1.6759 - val_acc: 0.5133\n",
      "Epoch 3/5\n",
      "18298/18298 [==============================] - 542s - loss: 0.6635 - acc: 0.7810 - val_loss: 1.7522 - val_acc: 0.4879\n",
      "Epoch 4/5\n",
      "18298/18298 [==============================] - 542s - loss: 0.6430 - acc: 0.7831 - val_loss: 1.6603 - val_acc: 0.4995\n",
      "Epoch 5/5\n",
      "18298/18298 [==============================] - 542s - loss: 0.6260 - acc: 0.7907 - val_loss: 1.6719 - val_acc: 0.4978\n"
     ]
    }
   ],
   "source": [
    "layers = model.layers\n",
    "# Get the index of the first dense layer...\n",
    "first_dense_idx = [index for index,layer in enumerate(layers) if type(layer) is Dense][0]\n",
    "# ...and set this and all subsequent layers to trainable\n",
    "for layer in layers[first_dense_idx:]: layer.trainable=True\n",
    "K.set_value(opt.lr, 0.0001)\n",
    "fit_model(model, trn_batches, val_batches, nb_epoch=2)"
   ]
  },
  {
   "cell_type": "markdown",
   "metadata": {},
   "source": [
    "Save weights now for reuse."
   ]
  },
  {
   "cell_type": "code",
   "execution_count": 27,
   "metadata": {
    "collapsed": true
   },
   "outputs": [],
   "source": [
    "finetune2_path = model_path+'finetune2.h5'\n",
    "if not os.path.exists(finetune2_path):\n",
    "    model.save_weights(finetune2_path)\n",
    "model.load_weights(finetune2_path)"
   ]
  },
  {
   "cell_type": "markdown",
   "metadata": {},
   "source": [
    "### Evaluation"
   ]
  },
  {
   "cell_type": "code",
   "execution_count": 29,
   "metadata": {
    "collapsed": false
   },
   "outputs": [
    {
     "name": "stdout",
     "output_type": "stream",
     "text": [
      "4126/4126 [==============================] - 100s   \n",
      "4126/4126 [==============================] - 100s   \n"
     ]
    },
    {
     "data": {
      "text/plain": [
       "array([ 0.6769,  0.5376,  0.9404,  0.708 ,  0.8352,  0.9502,  0.8674,  0.8622], dtype=float32)"
      ]
     },
     "execution_count": 29,
     "metadata": {},
     "output_type": "execute_result"
    }
   ],
   "source": [
    "preds = model.predict_classes(val_data, batch_size=batch_size)\n",
    "probs = model.predict_proba(val_data, batch_size=batch_size)[:,0]\n",
    "probs[:8]"
   ]
  },
  {
   "cell_type": "code",
   "execution_count": 31,
   "metadata": {
    "collapsed": true
   },
   "outputs": [],
   "source": [
    "cm = confusion_matrix(val_classes, preds)"
   ]
  },
  {
   "cell_type": "markdown",
   "metadata": {},
   "source": [
    "Class names provided by: https://www.kaggle.com/c/state-farm-distracted-driver-detection#evaluation\n",
    "- c0: normal driving\n",
    "- c1: texting - right\n",
    "- c2: talking on the phone - right\n",
    "- c3: texting - left\n",
    "- c4: talking on the phone - left\n",
    "- c5: operating the radio\n",
    "- c6: drinking\n",
    "- c7: reaching behind\n",
    "- c8: hair and makeup\n",
    "- c9: talking to passenger"
   ]
  },
  {
   "cell_type": "code",
   "execution_count": 32,
   "metadata": {
    "collapsed": false
   },
   "outputs": [
    {
     "name": "stdout",
     "output_type": "stream",
     "text": [
      "[[359   5   5  12  18  12   0   0  14  63]\n",
      " [ 93 128  15  17  10   7  44  64  28   8]\n",
      " [ 36   4 280   0   2   0   9   1  92   0]\n",
      " [ 46   5  20 237  38  14   9  23  35  21]\n",
      " [131   5  58  14 118   4  39  21  42  17]\n",
      " [ 53  10   0   5   7 342   6   0  23   3]\n",
      " [ 46  10   4  10  42   3 139  48 110   7]\n",
      " [ 75   9  15   1   4   7   1 251  26   0]\n",
      " [ 56   6   7   9  23   4   6   0 177  17]\n",
      " [ 91  10  18   4  41   9  23  62  60  23]]\n"
     ]
    },
    {
     "data": {
      "image/png": "[encoded data removed]",
      "text/plain": [
       "<matplotlib.figure.Figure at 0x7fd3e80adbd0>"
      ]
     },
     "metadata": {},
     "output_type": "display_data"
    }
   ],
   "source": [
    "plot_confusion_matrix(cm, val_preprocess.class_indices)"
   ]
  },
  {
   "cell_type": "markdown",
   "metadata": {},
   "source": [
    "### Iteration Record"
   ]
  },
  {
   "cell_type": "markdown",
   "metadata": {},
   "source": [
    "**Iteration #1 results:**\n",
    "\n",
    "`Epoch 1/3\n",
    "18104/18104 [==============================] - 550s - loss: 14.0563 - acc: 0.1247 - val_loss: 13.8792 - val_acc: 0.1377\n",
    "Epoch 2/3\n",
    "18104/18104 [==============================] - 551s - loss: 13.7498 - acc: 0.1464 - val_loss: 14.1173 - val_acc: 0.1241\n",
    "Epoch 3/3\n",
    "18104/18104 [==============================] - 550s - loss: 13.7294 - acc: 0.1471 - val_loss: 13.6851 - val_acc: 0.1498`\n",
    "\n",
    "**Confusion matrix:**\n",
    "\n",
    "`c9 [[395   0   0   0   0   0   0  62   0   0]\n",
    " c8 [279   0   0   0   0   0   0 193   0   0]\n",
    " c3 [302   0  10   0   0   0   0 152   0   0]\n",
    " c2 [406   0   0   0   0   0   0  58   0   0]\n",
    " c1 [366   0   0   0   0   0   0 106   0   0]\n",
    " c0 [265   0   0   0   0   0   0 209   0   0]\n",
    " c7 [305   0   0   0   0   0   0 142   0   0]\n",
    " c6 [144   0   0   0   0   0   0 242   0   0]\n",
    " c5 [207   0  11   0   0   0   0 119   0   0]\n",
    " c4 [276   0   1   0   0   0   0  70   0   0]]\n",
    " -- c9 c8 c3 c2 c1 c0 c7 c6 c5 c4`\n",
    "\n",
    "These results are much poorer than I was expecting. Strange how:\n",
    "1. The majority the predictions fall into 2/10 categories, c9 and c6\n",
    "2. The probabilities are frequently 0 or 1 (perhaps clipping would help?)\n",
    "3. Accuracy is >10%, which suggests that some training is happening... just not enough\n",
    "\n",
    "**To improve, I am revisiting:**\n",
    "\n",
    "**Idea 1.** Dataset creation - did I do something wrong when creating train, valid, sample? \n",
    "- Double-checking methodology and then re-creating data splits did not improve results on _sample_\n",
    "   \n",
    "**Idea 2.** np.clip?\n",
    "- Revisiting [Dogs Cats Redux](https://github.com/fastai/courses/blob/master/deeplearning1/nbs/dogs_cats_redux.ipynb) from lesson 1, clipping is something done before submission to Kaggle to hedge against extreme certainty - this isn't enough to explain how poor results are\n",
    "    \n",
    "**Idea 3.** Learning rate?\n",
    "- Lowering it seemed to have no effect on _sample_\n",
    "    \n",
    "**Idea 4.** Remove finetuning?\n",
    "- Removing `model.pop` actually did seem to help..??\n",
    "\n",
    "**Iteration #2 (remove `model.pop`) results:**\n",
    "\n",
    "`Epoch 1/3\n",
    "1500/1500 [==============================] - 60s - loss: 2.2872 - acc: 0.1427 - val_loss: 2.2926 - val_acc: 0.1150\n",
    "Epoch 2/3\n",
    "1500/1500 [==============================] - 60s - loss: 2.2174 - acc: 0.1840 - val_loss: 2.2827 - val_acc: 0.1250\n",
    "Epoch 3/3\n",
    "1500/1500 [==============================] - 60s - loss: 2.1898 - acc: 0.1960 - val_loss: 2.2387 - val_acc: 0.1900`\n",
    "\n",
    "At first, really not sure why. Thinking about it more, perhaps this problem benefits more from the 'funneling' that the original final dense layer provides by labelling the 1000 categories. From lesson 1, I recall the `seat_belt` label heavily dominating the image categorization for this dataset.\n",
    "\n",
    "Even with this improvement, results are half what they were in lesson 1.\n",
    "\n",
    "**Idea 5.** RMSprop(lr=0.1) => Adam(lr=0.001)?\n",
    "- Got this idea after looking at the code behind `vgg.finetune` in lesson 1.  That uses Adam instead of RMSprop. This provided the most promising boost so far.\n",
    "\n",
    "**Iteration #3 (use `Adam(lr=0.001)` optimizer) results:**\n",
    "\n",
    "`Epoch 1/3\n",
    "1500/1500 [==============================] - 60s - loss: 3.8602 - acc: 0.1427 - val_loss: 2.1919 - val_acc: 0.3040\n",
    "Epoch 2/3\n",
    "1500/1500 [==============================] - 60s - loss: 2.8074 - acc: 0.2807 - val_loss: 2.0083 - val_acc: 0.3390\n",
    "Epoch 3/3\n",
    "1500/1500 [==============================] - 61s - loss: 2.2858 - acc: 0.3767 - val_loss: 2.0740 - val_acc: 0.3570`\n",
    "\n",
    "This significant perfomance improvement is pretty frustrating, as differences between the various optimizers used for gradient descent have not been covered yet. I was using `RMSprop` like the `lesson2.ipynb` notebook from the course materials, on the faith that it is a good default. Perhaps my mistake was assuming that because it's a good default for cats vs dogs, it translates to this competition... but there's a lot of assuming going on so early in this course right now, so how to choose which assumptions to question? Feels like a big downside of top-down learning.\n",
    "\n",
    "**Idea 6.** Finetuning multiple layers, starting with the first dense layer\n",
    "- The fact that now my `val_acc >> acc` is interesting... I saw it [hypothesized in the forums](http://forums.fast.ai/t/approach-to-debugging-a-woeful-model/3334?u=iconix) that this could mean I'm still underfitting the data, which makes intuitive sense to me. So, let's try out another technique introduced in the course materials, while adding more training epochs.\n",
    "\n",
    "**Iteration #4 (finetune multiple layers) results:**\n",
    "\n",
    "`Epoch 1/3\n",
    "1500/1500 [==============================] - 61s - loss: 2.7465 - acc: 0.4627 - val_loss: 2.7878 - val_acc: 0.3720\n",
    "Epoch 2/3\n",
    "1500/1500 [==============================] - 61s - loss: 1.8657 - acc: 0.5520 - val_loss: 2.4985 - val_acc: 0.3820\n",
    "Epoch 3/3\n",
    "1500/1500 [==============================] - 61s - loss: 1.6960 - acc: 0.5507 - val_loss: 2.2490 - val_acc: 0.3940`\n",
    "\n",
    "Now to test these improvements outside of the _sample_ dataset...\n",
    "\n",
    "`Epoch 1/3\n",
    "18298/18298 [==============================] - 541s - loss: 1.8822 - acc: 0.4769 - val_loss: 1.7038 - val_acc: 0.4767\n",
    "Epoch 2/3\n",
    "18298/18298 [==============================] - 542s - loss: 0.9822 - acc: 0.6849 - val_loss: 1.8349 - val_acc: 0.4673\n",
    "Epoch 3/3\n",
    "18298/18298 [==============================] - 542s - loss: 0.8670 - acc: 0.7205 - val_loss: 1.8553 - val_acc: 0.4753`\n",
    "\n",
    "`Epoch 1/2\n",
    "18298/18298 [==============================] - 540s - loss: 0.7230 - acc: 0.7629 - val_loss: 1.7471 - val_acc: 0.4867\n",
    "Epoch 2/2\n",
    "18298/18298 [==============================] - 541s - loss: 0.6709 - acc: 0.7754 - val_loss: 1.6759 - val_acc: 0.5133`\n",
    "\n",
    "`c9 [[359   5   5  12  18  12   0   0  14  63]\n",
    " c8 [ 93 128  15  17  10   7  44  64  28   8]\n",
    " c3 [ 36   4 280   0   2   0   9   1  92   0]\n",
    " c2 [ 46   5  20 237  38  14   9  23  35  21]\n",
    " c1 [131   5  58  14 118   4  39  21  42  17]\n",
    " c0 [ 53  10   0   5   7 342   6   0  23   3]\n",
    " c7 [ 46  10   4  10  42   3 139  48 110   7]\n",
    " c6 [ 75   9  15   1   4   7   1 251  26   0]\n",
    " c5 [ 56   6   7   9  23   4   6   0 177  17]\n",
    " c4 [ 91  10  18   4  41   9  23  62  60  23]]\n",
    " -- c9 c8 c3 c2 c1 c0 c7 c6 c5 c4`\n",
    "\n",
    "OK, at least these results are now comparable to lesson 1 again. The confusion matrix is also much more diagonal, which is good."
   ]
  },
  {
   "cell_type": "markdown",
   "metadata": {},
   "source": [
    "### Submission to Kaggle ([help](https://github.com/fastai/courses/blob/master/deeplearning1/nbs/statefarm.ipynb))"
   ]
  },
  {
   "cell_type": "markdown",
   "metadata": {},
   "source": [
    "_Note on file structure_: I needed to create a single 'unknown' class for the test set"
   ]
  },
  {
   "cell_type": "code",
   "execution_count": 54,
   "metadata": {
    "collapsed": true
   },
   "outputs": [],
   "source": [
    "from IPython.display import FileLink\n",
    "\n",
    "subm_name = 'subm_hmwk2.gz'\n",
    "subm_path = path + 'results/' + subm_name"
   ]
  },
  {
   "cell_type": "code",
   "execution_count": 34,
   "metadata": {
    "collapsed": false
   },
   "outputs": [],
   "source": [
    "#Get the classes from the training batch\n",
    "classes = sorted(trn_preprocess.class_indices, key=trn_preprocess.class_indices.get)"
   ]
  },
  {
   "cell_type": "code",
   "execution_count": 38,
   "metadata": {
    "collapsed": true
   },
   "outputs": [],
   "source": [
    "??vgg.test"
   ]
  },
  {
   "cell_type": "code",
   "execution_count": 48,
   "metadata": {
    "collapsed": false
   },
   "outputs": [
    {
     "name": "stdout",
     "output_type": "stream",
     "text": [
      "Found 79726 images belonging to 1 classes.\n"
     ]
    }
   ],
   "source": [
    "batches, preds = vgg.test(path + 'test', batch_size = batch_size*2)"
   ]
  },
  {
   "cell_type": "code",
   "execution_count": 50,
   "metadata": {
    "collapsed": false
   },
   "outputs": [
    {
     "name": "stdout",
     "output_type": "stream",
     "text": [
      "[[  2.1216e-02   9.3973e-04   1.9276e-04   2.6112e-03   8.2366e-03   1.4723e-01   5.5109e-02\n",
      "    1.5427e-02   1.5991e-01   5.8913e-01]\n",
      " [  2.0792e-01   8.2813e-02   1.4909e-04   4.4530e-02   2.5656e-03   2.4723e-02   3.9796e-02\n",
      "    4.9158e-03   5.5308e-01   3.9504e-02]\n",
      " [  4.7711e-03   6.4377e-04   1.8179e-01   1.8949e-02   3.3458e-01   1.4237e-02   2.6641e-01\n",
      "    9.0478e-06   1.7711e-01   1.5052e-03]\n",
      " [  1.2933e-04   5.8872e-04   4.3073e-02   4.0332e-05   3.5615e-04   7.7359e-05   4.8769e-02\n",
      "    2.0808e-04   9.0168e-01   5.0736e-03]\n",
      " [  2.2983e-02   1.1304e-02   3.5941e-02   2.7033e-04   4.7592e-03   1.3044e-02   5.3175e-01\n",
      "    3.8694e-03   3.4989e-01   2.6185e-02]]\n",
      "['unknown/img_81601.jpg', 'unknown/img_14887.jpg', 'unknown/img_62885.jpg', 'unknown/img_45125.jpg', 'unknown/img_22633.jpg']\n"
     ]
    }
   ],
   "source": [
    "#For every image, vgg.test() generates two probabilities \n",
    "#based on how we've ordered the directories.\n",
    "print preds[:5]\n",
    "\n",
    "filenames = batches.filenames\n",
    "print filenames[:5]"
   ]
  },
  {
   "cell_type": "code",
   "execution_count": 52,
   "metadata": {
    "collapsed": false
   },
   "outputs": [
    {
     "data": {
      "text/html": [
       "<div>\n",
       "<table border=\"1\" class=\"dataframe\">\n",
       "  <thead>\n",
       "    <tr style=\"text-align: right;\">\n",
       "      <th></th>\n",
       "      <th>img</th>\n",
       "      <th>c0</th>\n",
       "      <th>c1</th>\n",
       "      <th>c2</th>\n",
       "      <th>c3</th>\n",
       "      <th>c4</th>\n",
       "      <th>c5</th>\n",
       "      <th>c6</th>\n",
       "      <th>c7</th>\n",
       "      <th>c8</th>\n",
       "      <th>c9</th>\n",
       "    </tr>\n",
       "  </thead>\n",
       "  <tbody>\n",
       "    <tr>\n",
       "      <th>0</th>\n",
       "      <td>img_81601.jpg</td>\n",
       "      <td>0.021216</td>\n",
       "      <td>0.000940</td>\n",
       "      <td>0.000193</td>\n",
       "      <td>0.002611</td>\n",
       "      <td>0.008237</td>\n",
       "      <td>0.147230</td>\n",
       "      <td>0.055109</td>\n",
       "      <td>0.015427</td>\n",
       "      <td>0.159907</td>\n",
       "      <td>0.589131</td>\n",
       "    </tr>\n",
       "    <tr>\n",
       "      <th>1</th>\n",
       "      <td>img_14887.jpg</td>\n",
       "      <td>0.207924</td>\n",
       "      <td>0.082813</td>\n",
       "      <td>0.000149</td>\n",
       "      <td>0.044530</td>\n",
       "      <td>0.002566</td>\n",
       "      <td>0.024723</td>\n",
       "      <td>0.039796</td>\n",
       "      <td>0.004916</td>\n",
       "      <td>0.553081</td>\n",
       "      <td>0.039504</td>\n",
       "    </tr>\n",
       "    <tr>\n",
       "      <th>2</th>\n",
       "      <td>img_62885.jpg</td>\n",
       "      <td>0.004771</td>\n",
       "      <td>0.000644</td>\n",
       "      <td>0.181791</td>\n",
       "      <td>0.018949</td>\n",
       "      <td>0.334576</td>\n",
       "      <td>0.014237</td>\n",
       "      <td>0.266413</td>\n",
       "      <td>0.000009</td>\n",
       "      <td>0.177105</td>\n",
       "      <td>0.001505</td>\n",
       "    </tr>\n",
       "    <tr>\n",
       "      <th>3</th>\n",
       "      <td>img_45125.jpg</td>\n",
       "      <td>0.000129</td>\n",
       "      <td>0.000589</td>\n",
       "      <td>0.043073</td>\n",
       "      <td>0.000040</td>\n",
       "      <td>0.000356</td>\n",
       "      <td>0.000077</td>\n",
       "      <td>0.048769</td>\n",
       "      <td>0.000208</td>\n",
       "      <td>0.901684</td>\n",
       "      <td>0.005074</td>\n",
       "    </tr>\n",
       "    <tr>\n",
       "      <th>4</th>\n",
       "      <td>img_22633.jpg</td>\n",
       "      <td>0.022983</td>\n",
       "      <td>0.011304</td>\n",
       "      <td>0.035941</td>\n",
       "      <td>0.000270</td>\n",
       "      <td>0.004759</td>\n",
       "      <td>0.013044</td>\n",
       "      <td>0.531753</td>\n",
       "      <td>0.003869</td>\n",
       "      <td>0.349892</td>\n",
       "      <td>0.026185</td>\n",
       "    </tr>\n",
       "  </tbody>\n",
       "</table>\n",
       "</div>"
      ],
      "text/plain": [
       "             img        c0        c1        c2        c3        c4        c5  \\\n",
       "0  img_81601.jpg  0.021216  0.000940  0.000193  0.002611  0.008237  0.147230   \n",
       "1  img_14887.jpg  0.207924  0.082813  0.000149  0.044530  0.002566  0.024723   \n",
       "2  img_62885.jpg  0.004771  0.000644  0.181791  0.018949  0.334576  0.014237   \n",
       "3  img_45125.jpg  0.000129  0.000589  0.043073  0.000040  0.000356  0.000077   \n",
       "4  img_22633.jpg  0.022983  0.011304  0.035941  0.000270  0.004759  0.013044   \n",
       "\n",
       "         c6        c7        c8        c9  \n",
       "0  0.055109  0.015427  0.159907  0.589131  \n",
       "1  0.039796  0.004916  0.553081  0.039504  \n",
       "2  0.266413  0.000009  0.177105  0.001505  \n",
       "3  0.048769  0.000208  0.901684  0.005074  \n",
       "4  0.531753  0.003869  0.349892  0.026185  "
      ]
     },
     "execution_count": 52,
     "metadata": {},
     "output_type": "execute_result"
    }
   ],
   "source": [
    "submission = pd.DataFrame(preds, columns=classes)\n",
    "submission.insert(0, 'img', [a[8:] for a in filenames])\n",
    "submission.head()"
   ]
  },
  {
   "cell_type": "code",
   "execution_count": 55,
   "metadata": {
    "collapsed": false
   },
   "outputs": [],
   "source": [
    "submission.to_csv(subm_path, index=False, compression='gzip')"
   ]
  },
  {
   "cell_type": "code",
   "execution_count": 56,
   "metadata": {
    "collapsed": false
   },
   "outputs": [
    {
     "data": {
      "text/html": [
       "<a href='/home/ubuntu/hmwk/nbs/data/statefarm/results/subm_hmwk2.gz' target='_blank'>/home/ubuntu/hmwk/nbs/data/statefarm/results/subm_hmwk2.gz</a><br>"
      ],
      "text/plain": [
       "/home/ubuntu/hmwk/nbs/data/statefarm/results/subm_hmwk2.gz"
      ]
     },
     "execution_count": 56,
     "metadata": {},
     "output_type": "execute_result"
    }
   ],
   "source": [
    "FileLink(subm_path)"
   ]
  },
  {
   "cell_type": "markdown",
   "metadata": {},
   "source": [
    "Then, using the Kaggle CLI:"
   ]
  },
  {
   "cell_type": "code",
   "execution_count": 57,
   "metadata": {
    "collapsed": false
   },
   "outputs": [
    {
     "ename": "OSError",
     "evalue": "[Errno 12] Cannot allocate memory",
     "output_type": "error",
     "traceback": [
      "\u001b[0;31m-----------------------------------------------------------\u001b[0m",
      "\u001b[0;31mOSError\u001b[0m                   Traceback (most recent call last)",
      "\u001b[0;32m<ipython-input-57-00ef1f88acc5>\u001b[0m in \u001b[0;36m<module>\u001b[0;34m()\u001b[0m\n\u001b[0;32m----> 1\u001b[0;31m \u001b[0mget_ipython\u001b[0m\u001b[0;34m(\u001b[0m\u001b[0;34m)\u001b[0m\u001b[0;34m.\u001b[0m\u001b[0msystem\u001b[0m\u001b[0;34m(\u001b[0m\u001b[0;34mu'kg submit $subm_path -c state-farm-distracted-driver-detection'\u001b[0m\u001b[0;34m)\u001b[0m\u001b[0;34m\u001b[0m\u001b[0m\n\u001b[0m",
      "\u001b[0;32m/home/ubuntu/anaconda2/lib/python2.7/site-packages/IPython/core/interactiveshell.pyc\u001b[0m in \u001b[0;36msystem_piped\u001b[0;34m(self, cmd)\u001b[0m\n\u001b[1;32m   2207\u001b[0m         \u001b[0;31m# a non-None value would trigger :func:`sys.displayhook` calls.\u001b[0m\u001b[0;34m\u001b[0m\u001b[0;34m\u001b[0m\u001b[0m\n\u001b[1;32m   2208\u001b[0m         \u001b[0;31m# Instead, we store the exit_code in user_ns.\u001b[0m\u001b[0;34m\u001b[0m\u001b[0;34m\u001b[0m\u001b[0m\n\u001b[0;32m-> 2209\u001b[0;31m         \u001b[0mself\u001b[0m\u001b[0;34m.\u001b[0m\u001b[0muser_ns\u001b[0m\u001b[0;34m[\u001b[0m\u001b[0;34m'_exit_code'\u001b[0m\u001b[0;34m]\u001b[0m \u001b[0;34m=\u001b[0m \u001b[0msystem\u001b[0m\u001b[0;34m(\u001b[0m\u001b[0mself\u001b[0m\u001b[0;34m.\u001b[0m\u001b[0mvar_expand\u001b[0m\u001b[0;34m(\u001b[0m\u001b[0mcmd\u001b[0m\u001b[0;34m,\u001b[0m \u001b[0mdepth\u001b[0m\u001b[0;34m=\u001b[0m\u001b[0;36m1\u001b[0m\u001b[0;34m)\u001b[0m\u001b[0;34m)\u001b[0m\u001b[0;34m\u001b[0m\u001b[0m\n\u001b[0m\u001b[1;32m   2210\u001b[0m \u001b[0;34m\u001b[0m\u001b[0m\n\u001b[1;32m   2211\u001b[0m     \u001b[0;32mdef\u001b[0m \u001b[0msystem_raw\u001b[0m\u001b[0;34m(\u001b[0m\u001b[0mself\u001b[0m\u001b[0;34m,\u001b[0m \u001b[0mcmd\u001b[0m\u001b[0;34m)\u001b[0m\u001b[0;34m:\u001b[0m\u001b[0;34m\u001b[0m\u001b[0m\n",
      "\u001b[0;32m/home/ubuntu/anaconda2/lib/python2.7/site-packages/IPython/utils/_process_posix.pyc\u001b[0m in \u001b[0;36msystem\u001b[0;34m(self, cmd)\u001b[0m\n\u001b[1;32m    155\u001b[0m                 \u001b[0mchild\u001b[0m \u001b[0;34m=\u001b[0m \u001b[0mpexpect\u001b[0m\u001b[0;34m.\u001b[0m\u001b[0mspawnb\u001b[0m\u001b[0;34m(\u001b[0m\u001b[0mself\u001b[0m\u001b[0;34m.\u001b[0m\u001b[0msh\u001b[0m\u001b[0;34m,\u001b[0m \u001b[0margs\u001b[0m\u001b[0;34m=\u001b[0m\u001b[0;34m[\u001b[0m\u001b[0;34m'-c'\u001b[0m\u001b[0;34m,\u001b[0m \u001b[0mcmd\u001b[0m\u001b[0;34m]\u001b[0m\u001b[0;34m)\u001b[0m \u001b[0;31m# Pexpect-U\u001b[0m\u001b[0;34m\u001b[0m\u001b[0m\n\u001b[1;32m    156\u001b[0m             \u001b[0;32melse\u001b[0m\u001b[0;34m:\u001b[0m\u001b[0;34m\u001b[0m\u001b[0m\n\u001b[0;32m--> 157\u001b[0;31m                 \u001b[0mchild\u001b[0m \u001b[0;34m=\u001b[0m \u001b[0mpexpect\u001b[0m\u001b[0;34m.\u001b[0m\u001b[0mspawn\u001b[0m\u001b[0;34m(\u001b[0m\u001b[0mself\u001b[0m\u001b[0;34m.\u001b[0m\u001b[0msh\u001b[0m\u001b[0;34m,\u001b[0m \u001b[0margs\u001b[0m\u001b[0;34m=\u001b[0m\u001b[0;34m[\u001b[0m\u001b[0;34m'-c'\u001b[0m\u001b[0;34m,\u001b[0m \u001b[0mcmd\u001b[0m\u001b[0;34m]\u001b[0m\u001b[0;34m)\u001b[0m  \u001b[0;31m# Vanilla Pexpect\u001b[0m\u001b[0;34m\u001b[0m\u001b[0m\n\u001b[0m\u001b[1;32m    158\u001b[0m             \u001b[0mflush\u001b[0m \u001b[0;34m=\u001b[0m \u001b[0msys\u001b[0m\u001b[0;34m.\u001b[0m\u001b[0mstdout\u001b[0m\u001b[0;34m.\u001b[0m\u001b[0mflush\u001b[0m\u001b[0;34m\u001b[0m\u001b[0m\n\u001b[1;32m    159\u001b[0m             \u001b[0;32mwhile\u001b[0m \u001b[0mTrue\u001b[0m\u001b[0;34m:\u001b[0m\u001b[0;34m\u001b[0m\u001b[0m\n",
      "\u001b[0;32m/home/ubuntu/anaconda2/lib/python2.7/site-packages/pexpect/pty_spawn.pyc\u001b[0m in \u001b[0;36m__init__\u001b[0;34m(self, command, args, timeout, maxread, searchwindowsize, logfile, cwd, env, ignore_sighup, echo, preexec_fn, encoding, codec_errors, dimensions)\u001b[0m\n\u001b[1;32m    192\u001b[0m             \u001b[0mself\u001b[0m\u001b[0;34m.\u001b[0m\u001b[0mname\u001b[0m \u001b[0;34m=\u001b[0m \u001b[0;34m'<pexpect factory incomplete>'\u001b[0m\u001b[0;34m\u001b[0m\u001b[0m\n\u001b[1;32m    193\u001b[0m         \u001b[0;32melse\u001b[0m\u001b[0;34m:\u001b[0m\u001b[0;34m\u001b[0m\u001b[0m\n\u001b[0;32m--> 194\u001b[0;31m             \u001b[0mself\u001b[0m\u001b[0;34m.\u001b[0m\u001b[0m_spawn\u001b[0m\u001b[0;34m(\u001b[0m\u001b[0mcommand\u001b[0m\u001b[0;34m,\u001b[0m \u001b[0margs\u001b[0m\u001b[0;34m,\u001b[0m \u001b[0mpreexec_fn\u001b[0m\u001b[0;34m,\u001b[0m \u001b[0mdimensions\u001b[0m\u001b[0;34m)\u001b[0m\u001b[0;34m\u001b[0m\u001b[0m\n\u001b[0m\u001b[1;32m    195\u001b[0m \u001b[0;34m\u001b[0m\u001b[0m\n\u001b[1;32m    196\u001b[0m     \u001b[0;32mdef\u001b[0m \u001b[0m__str__\u001b[0m\u001b[0;34m(\u001b[0m\u001b[0mself\u001b[0m\u001b[0;34m)\u001b[0m\u001b[0;34m:\u001b[0m\u001b[0;34m\u001b[0m\u001b[0m\n",
      "\u001b[0;32m/home/ubuntu/anaconda2/lib/python2.7/site-packages/pexpect/pty_spawn.pyc\u001b[0m in \u001b[0;36m_spawn\u001b[0;34m(self, command, args, preexec_fn, dimensions)\u001b[0m\n\u001b[1;32m    287\u001b[0m \u001b[0;34m\u001b[0m\u001b[0m\n\u001b[1;32m    288\u001b[0m         self.ptyproc = ptyprocess.PtyProcess.spawn(self.args, env=self.env,\n\u001b[0;32m--> 289\u001b[0;31m                                                    cwd=self.cwd, **kwargs)\n\u001b[0m\u001b[1;32m    290\u001b[0m \u001b[0;34m\u001b[0m\u001b[0m\n\u001b[1;32m    291\u001b[0m         \u001b[0mself\u001b[0m\u001b[0;34m.\u001b[0m\u001b[0mpid\u001b[0m \u001b[0;34m=\u001b[0m \u001b[0mself\u001b[0m\u001b[0;34m.\u001b[0m\u001b[0mptyproc\u001b[0m\u001b[0;34m.\u001b[0m\u001b[0mpid\u001b[0m\u001b[0;34m\u001b[0m\u001b[0m\n",
      "\u001b[0;32m/home/ubuntu/anaconda2/lib/python2.7/site-packages/ptyprocess/ptyprocess.pyc\u001b[0m in \u001b[0;36mspawn\u001b[0;34m(cls, argv, cwd, env, echo, preexec_fn, dimensions)\u001b[0m\n\u001b[1;32m    218\u001b[0m \u001b[0;34m\u001b[0m\u001b[0m\n\u001b[1;32m    219\u001b[0m         \u001b[0;32mif\u001b[0m \u001b[0muse_native_pty_fork\u001b[0m\u001b[0;34m:\u001b[0m\u001b[0;34m\u001b[0m\u001b[0m\n\u001b[0;32m--> 220\u001b[0;31m             \u001b[0mpid\u001b[0m\u001b[0;34m,\u001b[0m \u001b[0mfd\u001b[0m \u001b[0;34m=\u001b[0m \u001b[0mpty\u001b[0m\u001b[0;34m.\u001b[0m\u001b[0mfork\u001b[0m\u001b[0;34m(\u001b[0m\u001b[0;34m)\u001b[0m\u001b[0;34m\u001b[0m\u001b[0m\n\u001b[0m\u001b[1;32m    221\u001b[0m         \u001b[0;32melse\u001b[0m\u001b[0;34m:\u001b[0m\u001b[0;34m\u001b[0m\u001b[0m\n\u001b[1;32m    222\u001b[0m             \u001b[0;31m# Use internal fork_pty, for Solaris\u001b[0m\u001b[0;34m\u001b[0m\u001b[0;34m\u001b[0m\u001b[0m\n",
      "\u001b[0;32m/home/ubuntu/anaconda2/lib/python2.7/pty.pyc\u001b[0m in \u001b[0;36mfork\u001b[0;34m()\u001b[0m\n\u001b[1;32m    106\u001b[0m \u001b[0;34m\u001b[0m\u001b[0m\n\u001b[1;32m    107\u001b[0m     \u001b[0mmaster_fd\u001b[0m\u001b[0;34m,\u001b[0m \u001b[0mslave_fd\u001b[0m \u001b[0;34m=\u001b[0m \u001b[0mopenpty\u001b[0m\u001b[0;34m(\u001b[0m\u001b[0;34m)\u001b[0m\u001b[0;34m\u001b[0m\u001b[0m\n\u001b[0;32m--> 108\u001b[0;31m     \u001b[0mpid\u001b[0m \u001b[0;34m=\u001b[0m \u001b[0mos\u001b[0m\u001b[0;34m.\u001b[0m\u001b[0mfork\u001b[0m\u001b[0;34m(\u001b[0m\u001b[0;34m)\u001b[0m\u001b[0;34m\u001b[0m\u001b[0m\n\u001b[0m\u001b[1;32m    109\u001b[0m     \u001b[0;32mif\u001b[0m \u001b[0mpid\u001b[0m \u001b[0;34m==\u001b[0m \u001b[0mCHILD\u001b[0m\u001b[0;34m:\u001b[0m\u001b[0;34m\u001b[0m\u001b[0m\n\u001b[1;32m    110\u001b[0m         \u001b[0;31m# Establish a new session.\u001b[0m\u001b[0;34m\u001b[0m\u001b[0;34m\u001b[0m\u001b[0m\n",
      "\u001b[0;31mOSError\u001b[0m: [Errno 12] Cannot allocate memory"
     ]
    }
   ],
   "source": [
    "!kg submit $subm_path -c state-farm-distracted-driver-detection"
   ]
  },
  {
   "cell_type": "markdown",
   "metadata": {},
   "source": [
    "My **multiclass loss** private score on submission is 1.44900 - still an \"ok-ish\" top 45% (645/1440)."
   ]
  },
  {
   "cell_type": "markdown",
   "metadata": {},
   "source": [
    "### Clipping Results Before Submission"
   ]
  },
  {
   "cell_type": "code",
   "execution_count": 77,
   "metadata": {
    "collapsed": true
   },
   "outputs": [],
   "source": [
    "subm_name = 'subm5_hmwk2.gz'\n",
    "subm_path = path + 'results/' + subm_name"
   ]
  },
  {
   "cell_type": "code",
   "execution_count": 78,
   "metadata": {
    "collapsed": true
   },
   "outputs": [],
   "source": [
    "clipped_preds = preds.clip(min=0.00625, max=0.99375)"
   ]
  },
  {
   "cell_type": "code",
   "execution_count": 79,
   "metadata": {
    "collapsed": false
   },
   "outputs": [
    {
     "data": {
      "text/html": [
       "<div>\n",
       "<table border=\"1\" class=\"dataframe\">\n",
       "  <thead>\n",
       "    <tr style=\"text-align: right;\">\n",
       "      <th></th>\n",
       "      <th>img</th>\n",
       "      <th>c0</th>\n",
       "      <th>c1</th>\n",
       "      <th>c2</th>\n",
       "      <th>c3</th>\n",
       "      <th>c4</th>\n",
       "      <th>c5</th>\n",
       "      <th>c6</th>\n",
       "      <th>c7</th>\n",
       "      <th>c8</th>\n",
       "      <th>c9</th>\n",
       "    </tr>\n",
       "  </thead>\n",
       "  <tbody>\n",
       "    <tr>\n",
       "      <th>0</th>\n",
       "      <td>img_81601.jpg</td>\n",
       "      <td>0.021216</td>\n",
       "      <td>0.006250</td>\n",
       "      <td>0.006250</td>\n",
       "      <td>0.006250</td>\n",
       "      <td>0.008237</td>\n",
       "      <td>0.147230</td>\n",
       "      <td>0.055109</td>\n",
       "      <td>0.015427</td>\n",
       "      <td>0.159907</td>\n",
       "      <td>0.589131</td>\n",
       "    </tr>\n",
       "    <tr>\n",
       "      <th>1</th>\n",
       "      <td>img_14887.jpg</td>\n",
       "      <td>0.207924</td>\n",
       "      <td>0.082813</td>\n",
       "      <td>0.006250</td>\n",
       "      <td>0.044530</td>\n",
       "      <td>0.006250</td>\n",
       "      <td>0.024723</td>\n",
       "      <td>0.039796</td>\n",
       "      <td>0.006250</td>\n",
       "      <td>0.553081</td>\n",
       "      <td>0.039504</td>\n",
       "    </tr>\n",
       "    <tr>\n",
       "      <th>2</th>\n",
       "      <td>img_62885.jpg</td>\n",
       "      <td>0.006250</td>\n",
       "      <td>0.006250</td>\n",
       "      <td>0.181791</td>\n",
       "      <td>0.018949</td>\n",
       "      <td>0.334576</td>\n",
       "      <td>0.014237</td>\n",
       "      <td>0.266413</td>\n",
       "      <td>0.006250</td>\n",
       "      <td>0.177105</td>\n",
       "      <td>0.006250</td>\n",
       "    </tr>\n",
       "    <tr>\n",
       "      <th>3</th>\n",
       "      <td>img_45125.jpg</td>\n",
       "      <td>0.006250</td>\n",
       "      <td>0.006250</td>\n",
       "      <td>0.043073</td>\n",
       "      <td>0.006250</td>\n",
       "      <td>0.006250</td>\n",
       "      <td>0.006250</td>\n",
       "      <td>0.048769</td>\n",
       "      <td>0.006250</td>\n",
       "      <td>0.901684</td>\n",
       "      <td>0.006250</td>\n",
       "    </tr>\n",
       "    <tr>\n",
       "      <th>4</th>\n",
       "      <td>img_22633.jpg</td>\n",
       "      <td>0.022983</td>\n",
       "      <td>0.011304</td>\n",
       "      <td>0.035941</td>\n",
       "      <td>0.006250</td>\n",
       "      <td>0.006250</td>\n",
       "      <td>0.013044</td>\n",
       "      <td>0.531753</td>\n",
       "      <td>0.006250</td>\n",
       "      <td>0.349892</td>\n",
       "      <td>0.026185</td>\n",
       "    </tr>\n",
       "  </tbody>\n",
       "</table>\n",
       "</div>"
      ],
      "text/plain": [
       "             img        c0        c1        c2        c3        c4        c5  \\\n",
       "0  img_81601.jpg  0.021216  0.006250  0.006250  0.006250  0.008237  0.147230   \n",
       "1  img_14887.jpg  0.207924  0.082813  0.006250  0.044530  0.006250  0.024723   \n",
       "2  img_62885.jpg  0.006250  0.006250  0.181791  0.018949  0.334576  0.014237   \n",
       "3  img_45125.jpg  0.006250  0.006250  0.043073  0.006250  0.006250  0.006250   \n",
       "4  img_22633.jpg  0.022983  0.011304  0.035941  0.006250  0.006250  0.013044   \n",
       "\n",
       "         c6        c7        c8        c9  \n",
       "0  0.055109  0.015427  0.159907  0.589131  \n",
       "1  0.039796  0.006250  0.553081  0.039504  \n",
       "2  0.266413  0.006250  0.177105  0.006250  \n",
       "3  0.048769  0.006250  0.901684  0.006250  \n",
       "4  0.531753  0.006250  0.349892  0.026185  "
      ]
     },
     "execution_count": 79,
     "metadata": {},
     "output_type": "execute_result"
    }
   ],
   "source": [
    "clipped_subm = pd.DataFrame(clipped_preds, columns=classes)\n",
    "clipped_subm.insert(0, 'img', [a[8:] for a in filenames])\n",
    "clipped_subm.head()"
   ]
  },
  {
   "cell_type": "code",
   "execution_count": 80,
   "metadata": {
    "collapsed": true
   },
   "outputs": [],
   "source": [
    "clipped_subm.to_csv(subm_path, index=False, compression='gzip')"
   ]
  },
  {
   "cell_type": "code",
   "execution_count": 81,
   "metadata": {
    "collapsed": false
   },
   "outputs": [
    {
     "data": {
      "text/html": [
       "<a href='/home/ubuntu/hmwk/nbs/data/statefarm/results/subm5_hmwk2.gz' target='_blank'>/home/ubuntu/hmwk/nbs/data/statefarm/results/subm5_hmwk2.gz</a><br>"
      ],
      "text/plain": [
       "/home/ubuntu/hmwk/nbs/data/statefarm/results/subm5_hmwk2.gz"
      ]
     },
     "execution_count": 81,
     "metadata": {},
     "output_type": "execute_result"
    }
   ],
   "source": [
    "FileLink(subm_path)"
   ]
  },
  {
   "cell_type": "markdown",
   "metadata": {},
   "source": [
    "Clipping results:\n",
    "- 0.05 < p < 0.95: worse (`loss=1.47351`)\n",
    "- 0.025 < p < 0.975: better (`loss=1.42585`)\n",
    "- 0.0125 < p < 0.9875: better (`loss=1.41758`)\n",
    "- 0.00625 < p < 0.99375: better (`loss=1.41526`, 638/1440=top 44%)"
   ]
  },
  {
   "cell_type": "markdown",
   "metadata": {},
   "source": [
    "A modest improvement on my leaderboard position in lesson 1."
   ]
  }
 ],
 "metadata": {
  "anaconda-cloud": {},
  "kernelspec": {
   "display_name": "Python [conda root]",
   "language": "python",
   "name": "conda-root-py"
  },
  "language_info": {
   "codemirror_mode": {
    "name": "ipython",
    "version": 2
   },
   "file_extension": ".py",
   "mimetype": "text/x-python",
   "name": "python",
   "nbconvert_exporter": "python",
   "pygments_lexer": "ipython2",
   "version": "2.7.12"
  }
 },
 "nbformat": 4,
 "nbformat_minor": 1
}
