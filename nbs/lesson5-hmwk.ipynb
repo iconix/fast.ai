{
 "cells": [
  {
   "cell_type": "markdown",
   "metadata": {},
   "source": [
    "# The 20 newsgroups topic analysis\n",
    "\n",
    "Instead of repeating the IMDB sentiment analysis from the lesson (because frankly, I'm a little bored with sentiment analysis), I will attempt to apply a similar approach to deep-learning NLP classification to a dataset a coworker has recently been messing around with in `scikit-learn`: `sklearn.datasets.fetch_20newsgroups`.\n",
    "\n",
    "http://people.csail.mit.edu/jrennie/20Newsgroups/"
   ]
  },
  {
   "cell_type": "markdown",
   "metadata": {},
   "source": [
    "## Setup data"
   ]
  },
  {
   "cell_type": "code",
   "execution_count": 1,
   "metadata": {
    "collapsed": true
   },
   "outputs": [],
   "source": [
    "import os\n",
    "current_dir = os.getcwd()\n",
    "\n",
    "LESSON_HOME_DIR = current_dir + '/'\n",
    "DATA_HOME_DIR = LESSON_HOME_DIR + 'data/'\n",
    "\n",
    "DATASET_DIR = DATA_HOME_DIR + '20_newsgroup/'\n",
    "MODEL_DIR = DATASET_DIR + 'models/'"
   ]
  },
  {
   "cell_type": "code",
   "execution_count": 2,
   "metadata": {
    "collapsed": false
   },
   "outputs": [],
   "source": [
    "if not os.path.exists(MODEL_DIR):\n",
    "    os.mkdir(DATASET_DIR)\n",
    "    os.mkdir(MODEL_DIR)"
   ]
  },
  {
   "cell_type": "code",
   "execution_count": 3,
   "metadata": {
    "collapsed": false
   },
   "outputs": [],
   "source": [
    "from sklearn.datasets import fetch_20newsgroups\n",
    "\n",
    "category_subset = [\n",
    "    'alt.atheism',\n",
    "    'comp.graphics',\n",
    "    'comp.os.ms-windows.misc',\n",
    "    'soc.religion.christian',\n",
    "]\n",
    "\n",
    "newsgroups = fetch_20newsgroups(\n",
    "    subset = 'all',\n",
    "    categories = category_subset,\n",
    "    shuffle = True,\n",
    "    remove = ('headers', 'footers', 'quotes'))"
   ]
  },
  {
   "cell_type": "code",
   "execution_count": 4,
   "metadata": {
    "collapsed": false
   },
   "outputs": [
    {
     "data": {
      "text/plain": [
       "['alt.atheism',\n",
       " 'comp.graphics',\n",
       " 'comp.os.ms-windows.misc',\n",
       " 'soc.religion.christian']"
      ]
     },
     "execution_count": 4,
     "metadata": {},
     "output_type": "execute_result"
    }
   ],
   "source": [
    "newsgroups.target_names"
   ]
  },
  {
   "cell_type": "markdown",
   "metadata": {},
   "source": [
    "`target_names` are as requested"
   ]
  },
  {
   "cell_type": "code",
   "execution_count": 5,
   "metadata": {
    "collapsed": false
   },
   "outputs": [
    {
     "data": {
      "text/plain": [
       "((3754,), (3754,), 3754)"
      ]
     },
     "execution_count": 5,
     "metadata": {},
     "output_type": "execute_result"
    }
   ],
   "source": [
    "newsgroups.filenames.shape, newsgroups.target.shape, len(newsgroups.data)"
   ]
  },
  {
   "cell_type": "markdown",
   "metadata": {},
   "source": [
    "Keras implements `get_word_index()` for the IMDB dataset, which returns an dictionary of word->index derived from a json file hosted on Amazon S3.\n",
    "\n",
    "It seems bizarre to me to host this when you can easily create it on-demand... anyway, sklearn doesn't provide this. So let's create our own index with `keras.preprocessing.text.Tokenizer` (https://keras.io/preprocessing/text/)."
   ]
  },
  {
   "cell_type": "code",
   "execution_count": 6,
   "metadata": {
    "collapsed": false
   },
   "outputs": [
    {
     "name": "stderr",
     "output_type": "stream",
     "text": [
      "Using Theano backend.\n",
      "Using gpu device 0: Tesla K80 (CNMeM is disabled, cuDNN 5103)\n",
      "/home/ubuntu/anaconda2/lib/python2.7/site-packages/theano/sandbox/cuda/__init__.py:600: UserWarning: Your cuDNN version is more recent than the one Theano officially supports. If you see any problems, try updating Theano or downgrading cuDNN to version 5.\n",
      "  warnings.warn(warn)\n"
     ]
    }
   ],
   "source": [
    "import keras.preprocessing.text\n",
    "import string\n",
    "\n",
    "# Workaround to add \"Unicode support for keras.preprocessing.text\"\n",
    "# (https://github.com/fchollet/keras/issues/1072#issuecomment-295470970)\n",
    "def text_to_word_sequence(text,\n",
    "                          filters='!\"#$%&()*+,-./:;<=>?@[\\\\]^_`{|}~\\t\\n',\n",
    "                          lower=True, split=\" \"):\n",
    "    if lower: text = text.lower()\n",
    "    if type(text) == unicode:\n",
    "        translate_table = {ord(c): ord(t) for c,t in zip(filters, split*len(filters)) }\n",
    "    else:\n",
    "        translate_table = string.maketrans(filters, split * len(filters))\n",
    "    text = text.translate(translate_table)\n",
    "    seq = text.split(split)\n",
    "    return [i for i in seq if i]\n",
    "    \n",
    "keras.preprocessing.text.text_to_word_sequence = text_to_word_sequence"
   ]
  },
  {
   "cell_type": "code",
   "execution_count": 7,
   "metadata": {
    "collapsed": false,
    "scrolled": true
   },
   "outputs": [],
   "source": [
    "from keras.preprocessing.text import Tokenizer\n",
    "\n",
    "vocab_size = 10000\n",
    "\n",
    "tokenizer = Tokenizer(nb_words=vocab_size)\n",
    "tokenizer.fit_on_texts(newsgroups.data) # builds the word index\n",
    "sequences = tokenizer.texts_to_sequences(newsgroups.data)"
   ]
  },
  {
   "cell_type": "code",
   "execution_count": 8,
   "metadata": {
    "collapsed": false
   },
   "outputs": [],
   "source": [
    "word_index = tokenizer.word_index"
   ]
  },
  {
   "cell_type": "code",
   "execution_count": 9,
   "metadata": {
    "collapsed": false
   },
   "outputs": [
    {
     "data": {
      "text/plain": [
       "72905"
      ]
     },
     "execution_count": 9,
     "metadata": {},
     "output_type": "execute_result"
    }
   ],
   "source": [
    "len(word_index)"
   ]
  },
  {
   "cell_type": "markdown",
   "metadata": {},
   "source": [
    "Reverse the `word_index` with `idx2word`."
   ]
  },
  {
   "cell_type": "code",
   "execution_count": 10,
   "metadata": {
    "collapsed": true
   },
   "outputs": [],
   "source": [
    "idx2word = {v: k for k, v in word_index.iteritems()}"
   ]
  },
  {
   "cell_type": "markdown",
   "metadata": {},
   "source": [
    "Let's take a look at the first review, both as a list of indices and as text reconstructed from the indices."
   ]
  },
  {
   "cell_type": "code",
   "execution_count": 11,
   "metadata": {
    "collapsed": false
   },
   "outputs": [
    {
     "data": {
      "text/plain": [
       "'24, 2, 60, 566, 52, 20, 4829, 3, 389, 2, 3000, 1339, 2, 155, 386, 84, 901, 76, 4, 115, 24, 2, 88, 566, 76, 92, 402, 3, 525, 101, 2, 155, 385, 6, 1685, 2454, 236, 93, 182, 118, 1350, 335, 7, 108, 5725, 2764, 6, 3000, 8981, 20, 396, 3, 118, 127, 2454, 6, 158, 182, 90, 4499, 14, 129, 11, 2274, 81, 4808, 234, 219, 92, 23, 5605, 6, 720, 10, 3000, 61, 783, 5464, 8, 5725, 7, 1736, 3, 239, 3, 1464, 55, 2, 579, 5464, 214, 701, 45, 91, 23, 2, 1802, 4, 5, 1464, 10, 2, 2694, 74, 318, 129, 386, 436, 5, 24, 11, 30, 3, 102, 1641, 11, 114, 332, 8, 2, 1598, 5, 858, 537, 9, 11, 1237, 96, 386, 95, 17, 23, 3, 952, 26, 8, 9, 121, 23, 219, 9951, 9845, 61, 2104, 95, 96, 5725, 11, 8, 5, 2828, 3, 2501, 197, 4, 127, 863, 720, 200, 102, 337, 127, 1576, 1021, 93, 15, 495, 2, 2157, 4, 94, 396, 3, 5777, 127, 9605, 720, 182, 118, 614, 2221, 60, 261, 3, 583, 8, 9, 135, 2, 154, 1464, 8, 210, 1464'"
      ]
     },
     "execution_count": 11,
     "metadata": {},
     "output_type": "execute_result"
    }
   ],
   "source": [
    "', '.join(map(str, sequences[0]))"
   ]
  },
  {
   "cell_type": "code",
   "execution_count": 12,
   "metadata": {
    "collapsed": false
   },
   "outputs": [
    {
     "data": {
      "text/plain": [
       "u'on'"
      ]
     },
     "execution_count": 12,
     "metadata": {},
     "output_type": "execute_result"
    }
   ],
   "source": [
    "idx2word[24]"
   ]
  },
  {
   "cell_type": "code",
   "execution_count": 13,
   "metadata": {
    "collapsed": false
   },
   "outputs": [
    {
     "data": {
      "text/plain": [
       "u\"on the one hand there are advantages to having the liturgy stay the same john has described some of these on the other hand some people seem to start out the same old and pay attention better when things get changed around i think innovative priests and liturgy committees are trying to get our attention and make things more meaningful for us it drives me crazy too different people have preferences and needs in liturgy my local parish is innovative i prefer to go to mass at the next parish over sometimes we don't have the option of a mass in the style which best us john put a on it but to just offer it up probably is the solution a related issue that it sounds like john does not have to deal with is that may have different liturgical tastes my husband does like innovative it is a challenge to meet both of our spiritual needs without just going our separate ways when you include the factor of also trying to satisfy our children's needs things get pretty complicated one thing to remember is that even the most mass is still mass\""
      ]
     },
     "execution_count": 13,
     "metadata": {},
     "output_type": "execute_result"
    }
   ],
   "source": [
    "' '.join([idx2word[o] for o in sequences[0]])"
   ]
  },
  {
   "cell_type": "code",
   "execution_count": 14,
   "metadata": {
    "collapsed": false
   },
   "outputs": [
    {
     "data": {
      "text/plain": [
       "(3, 'soc.religion.christian')"
      ]
     },
     "execution_count": 14,
     "metadata": {},
     "output_type": "execute_result"
    }
   ],
   "source": [
    "newsgroups.target[0], newsgroups.target_names[newsgroups.target[0]]"
   ]
  },
  {
   "cell_type": "markdown",
   "metadata": {},
   "source": [
    "Distribution of the lengths of sentences:"
   ]
  },
  {
   "cell_type": "code",
   "execution_count": 15,
   "metadata": {
    "collapsed": false
   },
   "outputs": [
    {
     "data": {
      "text/plain": [
       "(158791, 0, 1493.157432072456)"
      ]
     },
     "execution_count": 15,
     "metadata": {},
     "output_type": "execute_result"
    }
   ],
   "source": [
    "import numpy as np\n",
    "\n",
    "lens = np.array(map(len, newsgroups.data))\n",
    "(lens.max(), lens.min(), lens.mean())"
   ]
  },
  {
   "cell_type": "markdown",
   "metadata": {},
   "source": [
    "Weird that there are sentences with 0 sequences (words) in them..."
   ]
  },
  {
   "cell_type": "code",
   "execution_count": 16,
   "metadata": {
    "collapsed": false
   },
   "outputs": [
    {
     "data": {
      "text/plain": [
       "101"
      ]
     },
     "execution_count": 16,
     "metadata": {},
     "output_type": "execute_result"
    }
   ],
   "source": [
    "# get indices of arrays that do NOT satisfy np.nonzero\n",
    "nonzero_indices = np.unique(np.nonzero(sequences)[0])\n",
    "zero_indices = set(range(len(sequences))).difference(nonzero_indices)\n",
    "len(zero_indices)"
   ]
  },
  {
   "cell_type": "markdown",
   "metadata": {},
   "source": [
    "So there are 101 sentences with no words. E.g."
   ]
  },
  {
   "cell_type": "code",
   "execution_count": 17,
   "metadata": {
    "collapsed": false
   },
   "outputs": [
    {
     "data": {
      "text/plain": [
       "([], 'alt.atheism')"
      ]
     },
     "execution_count": 17,
     "metadata": {},
     "output_type": "execute_result"
    }
   ],
   "source": [
    "sequences[64], newsgroups.target_names[newsgroups.target[64]]"
   ]
  },
  {
   "cell_type": "markdown",
   "metadata": {},
   "source": [
    "...sure."
   ]
  },
  {
   "cell_type": "markdown",
   "metadata": {},
   "source": [
    "Pad (with zero) or truncate each sentence to make consistent length."
   ]
  },
  {
   "cell_type": "code",
   "execution_count": 18,
   "metadata": {
    "collapsed": false
   },
   "outputs": [],
   "source": [
    "from keras.preprocessing import sequence\n",
    "\n",
    "seq_len = 1500\n",
    "\n",
    "data = sequence.pad_sequences(sequences, maxlen=seq_len, value=0)"
   ]
  },
  {
   "cell_type": "code",
   "execution_count": 19,
   "metadata": {
    "collapsed": false
   },
   "outputs": [
    {
     "data": {
      "text/plain": [
       "array([[   0,    0,    0, ...,    8,  210, 1464],\n",
       "       [   0,    0,    0, ..., 3162,    8,   11],\n",
       "       [   0,    0,    0, ...,    2,  318, 1142],\n",
       "       ..., \n",
       "       [   0,    0,    0, ...,   47,    7,  740],\n",
       "       [   0,    0,    0, ..., 2565,  356,  129],\n",
       "       [   0,    0,    0, ..., 4386,  364, 8254]], dtype=int32)"
      ]
     },
     "execution_count": 19,
     "metadata": {},
     "output_type": "execute_result"
    }
   ],
   "source": [
    "data[:10]"
   ]
  },
  {
   "cell_type": "markdown",
   "metadata": {},
   "source": [
    "Finally, let's turn the labels into categorical information."
   ]
  },
  {
   "cell_type": "code",
   "execution_count": 20,
   "metadata": {
    "collapsed": false
   },
   "outputs": [],
   "source": [
    "from keras.utils.np_utils import to_categorical\n",
    "\n",
    "newsgroups.target = to_categorical(np.asarray(newsgroups.target))"
   ]
  },
  {
   "cell_type": "code",
   "execution_count": 21,
   "metadata": {
    "collapsed": false
   },
   "outputs": [
    {
     "data": {
      "text/plain": [
       "((3754, 1500), (3754, 4))"
      ]
     },
     "execution_count": 21,
     "metadata": {},
     "output_type": "execute_result"
    }
   ],
   "source": [
    "data.shape, newsgroups.target.shape"
   ]
  },
  {
   "cell_type": "markdown",
   "metadata": {},
   "source": [
    "Split data into train-test."
   ]
  },
  {
   "cell_type": "code",
   "execution_count": 22,
   "metadata": {
    "collapsed": true
   },
   "outputs": [],
   "source": [
    "from sklearn.model_selection import train_test_split\n",
    "\n",
    "X_train, X_test, y_train, y_test = train_test_split(data, newsgroups.target, test_size=0.33)"
   ]
  },
  {
   "cell_type": "code",
   "execution_count": 23,
   "metadata": {
    "collapsed": false
   },
   "outputs": [
    {
     "data": {
      "text/plain": [
       "((2515, 1500), (1239, 1500), (2515, 4), (1239, 4))"
      ]
     },
     "execution_count": 23,
     "metadata": {},
     "output_type": "execute_result"
    }
   ],
   "source": [
    "X_train.shape, X_test.shape, y_train.shape, y_test.shape"
   ]
  },
  {
   "cell_type": "markdown",
   "metadata": {},
   "source": [
    "## Create simple models"
   ]
  },
  {
   "cell_type": "markdown",
   "metadata": {},
   "source": [
    "### Single hidden layer NN\n",
    "\n",
    "The simplest model that tends to give reasonable results is a single hidden layer net. So let's try that. Note that we can't expect to get any useful results by feeding word ids directly into a neural net - so instead we use an embedding to replace them with a vector of 32 (initially random) floats for each word in the vocab."
   ]
  },
  {
   "cell_type": "code",
   "execution_count": 24,
   "metadata": {
    "collapsed": false
   },
   "outputs": [
    {
     "data": {
      "text/plain": [
       "(10000, 1500)"
      ]
     },
     "execution_count": 24,
     "metadata": {},
     "output_type": "execute_result"
    }
   ],
   "source": [
    "vocab_size, seq_len"
   ]
  },
  {
   "cell_type": "code",
   "execution_count": 25,
   "metadata": {
    "collapsed": false
   },
   "outputs": [],
   "source": [
    "from keras.models import Sequential\n",
    "from keras.layers import Embedding\n",
    "from keras.layers.core import Flatten, Dense, Dropout\n",
    "from keras.optimizers import Adam\n",
    "\n",
    "# input_length => 1500-word reviews, 32 floats per word\n",
    "model = Sequential([\n",
    "    Embedding(vocab_size, 32, input_length=seq_len),\n",
    "    Flatten(),\n",
    "    Dense(100, activation='relu'),\n",
    "    Dropout(0.7),\n",
    "    Dense(len(newsgroups.target_names), activation='softmax')])"
   ]
  },
  {
   "cell_type": "code",
   "execution_count": 26,
   "metadata": {
    "collapsed": false
   },
   "outputs": [
    {
     "name": "stdout",
     "output_type": "stream",
     "text": [
      "____________________________________________________________________________________________________\n",
      "Layer (type)                     Output Shape          Param #     Connected to                     \n",
      "====================================================================================================\n",
      "embedding_1 (Embedding)          (None, 1500, 32)      320000      embedding_input_1[0][0]          \n",
      "____________________________________________________________________________________________________\n",
      "flatten_1 (Flatten)              (None, 48000)         0           embedding_1[0][0]                \n",
      "____________________________________________________________________________________________________\n",
      "dense_1 (Dense)                  (None, 100)           4800100     flatten_1[0][0]                  \n",
      "____________________________________________________________________________________________________\n",
      "dropout_1 (Dropout)              (None, 100)           0           dense_1[0][0]                    \n",
      "____________________________________________________________________________________________________\n",
      "dense_2 (Dense)                  (None, 4)             404         dropout_1[0][0]                  \n",
      "====================================================================================================\n",
      "Total params: 5120504\n",
      "____________________________________________________________________________________________________\n"
     ]
    }
   ],
   "source": [
    "model.compile(loss='categorical_crossentropy', optimizer=Adam(), metrics=['accuracy'])\n",
    "model.summary()"
   ]
  },
  {
   "cell_type": "code",
   "execution_count": 27,
   "metadata": {
    "collapsed": false
   },
   "outputs": [
    {
     "name": "stdout",
     "output_type": "stream",
     "text": [
      "Train on 2515 samples, validate on 1239 samples\n",
      "Epoch 1/10\n",
      "2515/2515 [==============================] - 0s - loss: 1.4609 - acc: 0.2748 - val_loss: 1.3608 - val_acc: 0.3479\n",
      "Epoch 2/10\n",
      "2515/2515 [==============================] - 0s - loss: 1.3311 - acc: 0.2938 - val_loss: 1.2943 - val_acc: 0.3850\n",
      "Epoch 3/10\n",
      "2515/2515 [==============================] - 0s - loss: 1.2346 - acc: 0.3932 - val_loss: 1.1203 - val_acc: 0.4923\n",
      "Epoch 4/10\n",
      "2515/2515 [==============================] - 0s - loss: 1.0246 - acc: 0.5014 - val_loss: 0.8777 - val_acc: 0.5472\n",
      "Epoch 5/10\n",
      "2515/2515 [==============================] - 0s - loss: 0.7436 - acc: 0.6433 - val_loss: 0.7756 - val_acc: 0.6077\n",
      "Epoch 6/10\n",
      "2515/2515 [==============================] - 0s - loss: 0.5509 - acc: 0.7761 - val_loss: 0.7083 - val_acc: 0.6594\n",
      "Epoch 7/10\n",
      "2515/2515 [==============================] - 0s - loss: 0.3676 - acc: 0.8771 - val_loss: 0.6639 - val_acc: 0.6917\n",
      "Epoch 8/10\n",
      "2515/2515 [==============================] - 0s - loss: 0.2500 - acc: 0.9276 - val_loss: 0.6374 - val_acc: 0.7086\n",
      "Epoch 9/10\n",
      "2515/2515 [==============================] - 0s - loss: 0.1801 - acc: 0.9471 - val_loss: 0.6272 - val_acc: 0.7345\n",
      "Epoch 10/10\n",
      "2515/2515 [==============================] - 0s - loss: 0.1296 - acc: 0.9622 - val_loss: 0.6457 - val_acc: 0.7296\n"
     ]
    },
    {
     "data": {
      "text/plain": [
       "<keras.callbacks.History at 0x7f8365be4f10>"
      ]
     },
     "execution_count": 27,
     "metadata": {},
     "output_type": "execute_result"
    }
   ],
   "source": [
    "model.fit(X_train, y_train, validation_data=(X_test, y_test), nb_epoch=10, batch_size=64)"
   ]
  },
  {
   "cell_type": "markdown",
   "metadata": {},
   "source": [
    "Is a mid-70s validation accuracy.. Good? Bad?\n",
    "\n",
    "Here are some accuracies [from an official `sklearn` example](http://scikit-learn.org/stable/auto_examples/text/document_classification_20newsgroups.html) that classifies documents by topics using a bag-of-words approach:\n",
    "\n",
    "```\n",
    "[('RidgeClassifier', 0.89726533628972649),\n",
    " ('Perceptron', 0.88543976348854403),\n",
    " ('PassiveAggressiveClassifier', 0.90613451589061345),\n",
    " ('KNeighborsClassifier', 0.85809312638580926),\n",
    " ('RandomForestClassifier', 0.83813747228381374),\n",
    " ('LinearSVC', 0.90022172949002222),\n",
    " ('SGDClassifier', 0.90096082779009612),\n",
    " ('LinearSVC', 0.87287509238728755),\n",
    " ('SGDClassifier', 0.88543976348854403),\n",
    " ('SGDClassifier', 0.89874353288987441),\n",
    " ('NearestCentroid', 0.85513673318551364),\n",
    " ('MultinomialNB', 0.90022172949002222),\n",
    " ('BernoulliNB', 0.88396156688839611),\n",
    " ('Pipeline', 0.8810051736881005)]\n",
    " \n",
    " mean: 0.88311688311688319\n",
    " ```"
   ]
  },
  {
   "cell_type": "markdown",
   "metadata": {},
   "source": [
    "So, not a good result in comparison with much simpler approaches. Training accuracy is high, but testing accuracy is much poorer.\n",
    "\n",
    "As a sanity check, I also ran code from [`pretrained_word_embeddings.py`](https://github.com/fchollet/keras/blob/master/examples/pretrained_word_embeddings.py) (from Keras's examples repository) which also runs against `20_newsgroups` (not the `sklearn` version though), and it was able to achieve:\n",
    "\n",
    "    loss: 0.3784 - acc: 0.8734 - val_loss: 0.9177 - val_acc: 0.7257\n",
    "after 10 epochs - again, not as accurate as the 'shallow', bag-of-words models - but comparable to the results I'm receiving here."
   ]
  },
  {
   "cell_type": "markdown",
   "metadata": {},
   "source": [
    "### Single conv layer with max pooling\n",
    "\n",
    "A CNN is likely to work better, since it's designed to take advantage of ordered data. We'll need to use a 1D CNN, since a sequence of words is 1D."
   ]
  },
  {
   "cell_type": "code",
   "execution_count": 28,
   "metadata": {
    "collapsed": false
   },
   "outputs": [],
   "source": [
    "from keras.layers.convolutional import Convolution1D, MaxPooling1D\n",
    "\n",
    "conv1 = Sequential([\n",
    "    Embedding(vocab_size, 100, input_length=seq_len, dropout=0.2),\n",
    "    Dropout(0.4),\n",
    "    Convolution1D(128, 5, activation='relu'),\n",
    "    Dropout(0.4),\n",
    "    MaxPooling1D(5),\n",
    "    Flatten(),\n",
    "    Dense(128, activation='relu'),\n",
    "    Dropout(0.7),\n",
    "    Dense(len(newsgroups.target_names), activation='softmax')])"
   ]
  },
  {
   "cell_type": "code",
   "execution_count": 29,
   "metadata": {
    "collapsed": false
   },
   "outputs": [
    {
     "name": "stdout",
     "output_type": "stream",
     "text": [
      "____________________________________________________________________________________________________\n",
      "Layer (type)                     Output Shape          Param #     Connected to                     \n",
      "====================================================================================================\n",
      "embedding_2 (Embedding)          (None, 1500, 100)     1000000     embedding_input_2[0][0]          \n",
      "____________________________________________________________________________________________________\n",
      "dropout_2 (Dropout)              (None, 1500, 100)     0           embedding_2[0][0]                \n",
      "____________________________________________________________________________________________________\n",
      "convolution1d_1 (Convolution1D)  (None, 1496, 128)     64128       dropout_2[0][0]                  \n",
      "____________________________________________________________________________________________________\n",
      "dropout_3 (Dropout)              (None, 1496, 128)     0           convolution1d_1[0][0]            \n",
      "____________________________________________________________________________________________________\n",
      "maxpooling1d_1 (MaxPooling1D)    (None, 299, 128)      0           dropout_3[0][0]                  \n",
      "____________________________________________________________________________________________________\n",
      "flatten_2 (Flatten)              (None, 38272)         0           maxpooling1d_1[0][0]             \n",
      "____________________________________________________________________________________________________\n",
      "dense_3 (Dense)                  (None, 128)           4898944     flatten_2[0][0]                  \n",
      "____________________________________________________________________________________________________\n",
      "dropout_4 (Dropout)              (None, 128)           0           dense_3[0][0]                    \n",
      "____________________________________________________________________________________________________\n",
      "dense_4 (Dense)                  (None, 4)             516         dropout_4[0][0]                  \n",
      "====================================================================================================\n",
      "Total params: 5963588\n",
      "____________________________________________________________________________________________________\n"
     ]
    }
   ],
   "source": [
    "from keras.optimizers import RMSprop\n",
    "\n",
    "conv1.compile(loss='categorical_crossentropy', optimizer=Adam(), metrics=['accuracy'])\n",
    "conv1.summary()"
   ]
  },
  {
   "cell_type": "code",
   "execution_count": 30,
   "metadata": {
    "collapsed": false
   },
   "outputs": [
    {
     "data": {
      "text/plain": [
       "0.0010000000474974513"
      ]
     },
     "execution_count": 30,
     "metadata": {},
     "output_type": "execute_result"
    }
   ],
   "source": [
    "conv1.optimizer.lr.get_value().item()"
   ]
  },
  {
   "cell_type": "code",
   "execution_count": 31,
   "metadata": {
    "collapsed": false
   },
   "outputs": [
    {
     "name": "stdout",
     "output_type": "stream",
     "text": [
      "Train on 2515 samples, validate on 1239 samples\n",
      "Epoch 1/10\n",
      "2515/2515 [==============================] - 7s - loss: 1.4298 - acc: 0.3241 - val_loss: 1.3593 - val_acc: 0.3769\n",
      "Epoch 2/10\n",
      "2515/2515 [==============================] - 7s - loss: 1.3111 - acc: 0.3559 - val_loss: 1.2686 - val_acc: 0.4044\n",
      "Epoch 3/10\n",
      "2515/2515 [==============================] - 7s - loss: 1.2105 - acc: 0.4052 - val_loss: 1.1784 - val_acc: 0.4439\n",
      "Epoch 4/10\n",
      "2515/2515 [==============================] - 7s - loss: 1.0240 - acc: 0.4899 - val_loss: 0.9215 - val_acc: 0.5504\n",
      "Epoch 5/10\n",
      "2515/2515 [==============================] - 7s - loss: 0.8506 - acc: 0.5610 - val_loss: 0.7941 - val_acc: 0.6320\n",
      "Epoch 6/10\n",
      "2515/2515 [==============================] - 7s - loss: 0.6949 - acc: 0.6636 - val_loss: 0.6857 - val_acc: 0.6820\n",
      "Epoch 7/10\n",
      "2515/2515 [==============================] - 7s - loss: 0.5433 - acc: 0.7654 - val_loss: 0.6388 - val_acc: 0.7086\n",
      "Epoch 8/10\n",
      "2515/2515 [==============================] - 7s - loss: 0.4313 - acc: 0.8262 - val_loss: 0.5530 - val_acc: 0.7635\n",
      "Epoch 9/10\n",
      "2515/2515 [==============================] - 7s - loss: 0.3538 - acc: 0.8604 - val_loss: 0.5392 - val_acc: 0.7821\n",
      "Epoch 10/10\n",
      "2515/2515 [==============================] - 7s - loss: 0.3109 - acc: 0.8815 - val_loss: 0.5334 - val_acc: 0.7756\n"
     ]
    },
    {
     "data": {
      "text/plain": [
       "<keras.callbacks.History at 0x7f835c3234d0>"
      ]
     },
     "execution_count": 31,
     "metadata": {},
     "output_type": "execute_result"
    }
   ],
   "source": [
    "conv1.fit(X_train, y_train, validation_data=(X_test, y_test), nb_epoch=10, batch_size=64)"
   ]
  },
  {
   "cell_type": "code",
   "execution_count": 32,
   "metadata": {
    "collapsed": true
   },
   "outputs": [],
   "source": [
    "conv1.optimizer.lr=0.01"
   ]
  },
  {
   "cell_type": "code",
   "execution_count": 33,
   "metadata": {
    "collapsed": false
   },
   "outputs": [
    {
     "name": "stdout",
     "output_type": "stream",
     "text": [
      "Train on 2515 samples, validate on 1239 samples\n",
      "Epoch 1/4\n",
      "2515/2515 [==============================] - 7s - loss: 0.2550 - acc: 0.9082 - val_loss: 0.5456 - val_acc: 0.7837\n",
      "Epoch 2/4\n",
      "2515/2515 [==============================] - 7s - loss: 0.2131 - acc: 0.9161 - val_loss: 0.5704 - val_acc: 0.7877\n",
      "Epoch 3/4\n",
      "2515/2515 [==============================] - 7s - loss: 0.1961 - acc: 0.9241 - val_loss: 0.6248 - val_acc: 0.7740\n",
      "Epoch 4/4\n",
      "2515/2515 [==============================] - 7s - loss: 0.2053 - acc: 0.9264 - val_loss: 0.5908 - val_acc: 0.7797\n"
     ]
    },
    {
     "data": {
      "text/plain": [
       "<keras.callbacks.History at 0x7f835c323810>"
      ]
     },
     "execution_count": 33,
     "metadata": {},
     "output_type": "execute_result"
    }
   ],
   "source": [
    "conv1.fit(X_train, y_train, validation_data=(X_test, y_test), nb_epoch=4, batch_size=64)"
   ]
  },
  {
   "cell_type": "code",
   "execution_count": 34,
   "metadata": {
    "collapsed": false
   },
   "outputs": [
    {
     "name": "stdout",
     "output_type": "stream",
     "text": [
      "Train on 2515 samples, validate on 1239 samples\n",
      "Epoch 1/1\n",
      "2515/2515 [==============================] - 7s - loss: 0.1649 - acc: 0.9308 - val_loss: 0.6304 - val_acc: 0.7780\n"
     ]
    },
    {
     "data": {
      "text/plain": [
       "<keras.callbacks.History at 0x7f835c323950>"
      ]
     },
     "execution_count": 34,
     "metadata": {},
     "output_type": "execute_result"
    }
   ],
   "source": [
    "conv1.fit(X_train, y_train, validation_data=(X_test, y_test), nb_epoch=1, batch_size=64)"
   ]
  },
  {
   "cell_type": "markdown",
   "metadata": {},
   "source": [
    "A good improvement over the previous model."
   ]
  },
  {
   "cell_type": "markdown",
   "metadata": {
    "collapsed": true
   },
   "source": [
    "## Pre-trained vectors\n",
    "\n",
    "You may want to look at wordvectors.ipynb before moving on.\n",
    "\n",
    "In this section, we replicate the previous CNN, but using pre-trained embeddings."
   ]
  },
  {
   "cell_type": "code",
   "execution_count": 35,
   "metadata": {
    "collapsed": true
   },
   "outputs": [],
   "source": [
    "from keras.utils.data_utils import get_file\n",
    "\n",
    "def get_glove_dataset(dataset):\n",
    "    \"\"\"Download the requested glove dataset from files.fast.ai\n",
    "    and return a location that can be passed to load_vectors.\n",
    "    \"\"\"\n",
    "    # see wordvectors.ipynb for info on how these files were\n",
    "    # generated from the original glove data.\n",
    "    md5sums = {'6B.50d': '8e1557d1228decbda7db6dfd81cd9909',\n",
    "               '6B.100d': 'c92dbbeacde2b0384a43014885a60b2c',\n",
    "               '6B.200d': 'af271b46c04b0b2e41a84d8cd806178d',\n",
    "               '6B.300d': '30290210376887dcc6d0a5a6374d8255'}\n",
    "    glove_path = os.path.abspath('data/glove/results')\n",
    "    %mkdir -p $glove_path\n",
    "    return get_file(dataset,\n",
    "                    'http://files.fast.ai/models/glove/' + dataset + '.tgz',\n",
    "                    cache_subdir=glove_path,\n",
    "                    md5_hash=md5sums.get(dataset, None),\n",
    "                    untar=True)"
   ]
  },
  {
   "cell_type": "code",
   "execution_count": 36,
   "metadata": {
    "collapsed": true
   },
   "outputs": [],
   "source": [
    "from utils import load_array\n",
    "import pickle\n",
    "\n",
    "def load_vectors(loc):\n",
    "    return (load_array(loc+'.dat'),\n",
    "        pickle.load(open(loc+'_words.pkl','rb')),\n",
    "        pickle.load(open(loc+'_idx.pkl','rb')))"
   ]
  },
  {
   "cell_type": "code",
   "execution_count": 37,
   "metadata": {
    "collapsed": false
   },
   "outputs": [
    {
     "name": "stdout",
     "output_type": "stream",
     "text": [
      "Untaring file...\n"
     ]
    }
   ],
   "source": [
    "vecs, words, wordidx = load_vectors(get_glove_dataset('6B.100d'))"
   ]
  },
  {
   "cell_type": "code",
   "execution_count": 38,
   "metadata": {
    "collapsed": false
   },
   "outputs": [
    {
     "data": {
      "text/plain": [
       "400000"
      ]
     },
     "execution_count": 38,
     "metadata": {},
     "output_type": "execute_result"
    }
   ],
   "source": [
    "len(wordidx)"
   ]
  },
  {
   "cell_type": "markdown",
   "metadata": {},
   "source": [
    "The glove word ids and imdb word ids use different indexes. So we create a simple function that creates an embedding matrix using the indexes from imdb, and the embeddings from glove (where they exist)."
   ]
  },
  {
   "cell_type": "code",
   "execution_count": 39,
   "metadata": {
    "collapsed": true
   },
   "outputs": [],
   "source": [
    "import re\n",
    "from numpy.random import normal\n",
    "\n",
    "def create_emb():\n",
    "    n_fact = vecs.shape[1]\n",
    "    emb = np.zeros((vocab_size, n_fact))\n",
    "\n",
    "    for i in range(1,len(emb)):\n",
    "        word = idx2word[i]\n",
    "        if word and re.match(r\"^[a-zA-Z0-9\\-]*$\", word) and word in wordidx:\n",
    "            src_idx = wordidx[word]\n",
    "            emb[i] = vecs[src_idx]\n",
    "        else:\n",
    "            # If we can't find the word in glove, randomly initialize\n",
    "            emb[i] = normal(scale=0.6, size=(n_fact,))\n",
    "\n",
    "    # This is our \"rare word\" id - we want to randomly initialize\n",
    "    emb[-1] = normal(scale=0.6, size=(n_fact,))\n",
    "    emb/=3\n",
    "    return emb"
   ]
  },
  {
   "cell_type": "code",
   "execution_count": 40,
   "metadata": {
    "collapsed": false
   },
   "outputs": [],
   "source": [
    "emb = create_emb()"
   ]
  },
  {
   "cell_type": "code",
   "execution_count": 41,
   "metadata": {
    "collapsed": false
   },
   "outputs": [
    {
     "data": {
      "text/plain": [
       "(10000, 100)"
      ]
     },
     "execution_count": 41,
     "metadata": {},
     "output_type": "execute_result"
    }
   ],
   "source": [
    "emb.shape"
   ]
  },
  {
   "cell_type": "code",
   "execution_count": 42,
   "metadata": {
    "collapsed": false
   },
   "outputs": [],
   "source": [
    "emb_model = Sequential([\n",
    "    Embedding(vocab_size, 100, input_length=seq_len, dropout=0.2, \n",
    "              weights=[emb], trainable=False),\n",
    "    Dropout(0.25),\n",
    "    Convolution1D(128, 5, border_mode='same', activation='relu'),\n",
    "    Dropout(0.25),\n",
    "    MaxPooling1D(),\n",
    "    Flatten(),\n",
    "    Dense(100, activation='relu'),\n",
    "    Dropout(0.7),\n",
    "    Dense(4, activation='softmax')])"
   ]
  },
  {
   "cell_type": "markdown",
   "metadata": {},
   "source": [
    "_Note_: I started seeing lines like `4s - loss: nan - acc: 0.6783 - val_loss: nan - val_acc: 0.2131` where in the previous epoch, `val_acc` was twice that amount. A [quick search on the forums](http://forums.fast.ai/t/why-are-my-losses-nan/2931/2) surfaced this explanation:\n",
    "\n",
    "    \"There is one thing that doesn't look quite right: the final activation is not compatible with that loss function. Categorical cross-entropy expects a 'softmax' activation in the final layer, not 'sigmoid'. Consider changing that to see what happens.\"\n",
    "    \n",
    "**Categorical cross-entropy expects a `softmax` activation in the final layer, not `sigmoid`.** So I switched to `softmax`... I don't recall ever learning this information, however. Should ponder why."
   ]
  },
  {
   "cell_type": "code",
   "execution_count": 43,
   "metadata": {
    "collapsed": false,
    "scrolled": true
   },
   "outputs": [
    {
     "name": "stdout",
     "output_type": "stream",
     "text": [
      "____________________________________________________________________________________________________\n",
      "Layer (type)                     Output Shape          Param #     Connected to                     \n",
      "====================================================================================================\n",
      "embedding_3 (Embedding)          (None, 1500, 100)     0           embedding_input_3[0][0]          \n",
      "____________________________________________________________________________________________________\n",
      "dropout_5 (Dropout)              (None, 1500, 100)     0           embedding_3[0][0]                \n",
      "____________________________________________________________________________________________________\n",
      "convolution1d_2 (Convolution1D)  (None, 1500, 128)     64128       dropout_5[0][0]                  \n",
      "____________________________________________________________________________________________________\n",
      "dropout_6 (Dropout)              (None, 1500, 128)     0           convolution1d_2[0][0]            \n",
      "____________________________________________________________________________________________________\n",
      "maxpooling1d_2 (MaxPooling1D)    (None, 750, 128)      0           dropout_6[0][0]                  \n",
      "____________________________________________________________________________________________________\n",
      "flatten_3 (Flatten)              (None, 96000)         0           maxpooling1d_2[0][0]             \n",
      "____________________________________________________________________________________________________\n",
      "dense_5 (Dense)                  (None, 100)           9600100     flatten_3[0][0]                  \n",
      "____________________________________________________________________________________________________\n",
      "dropout_7 (Dropout)              (None, 100)           0           dense_5[0][0]                    \n",
      "____________________________________________________________________________________________________\n",
      "dense_6 (Dense)                  (None, 4)             404         dropout_7[0][0]                  \n",
      "====================================================================================================\n",
      "Total params: 9664632\n",
      "____________________________________________________________________________________________________\n"
     ]
    }
   ],
   "source": [
    "emb_model.compile(loss='categorical_crossentropy', optimizer=Adam(), metrics=['accuracy'])\n",
    "emb_model.summary()"
   ]
  },
  {
   "cell_type": "code",
   "execution_count": 44,
   "metadata": {
    "collapsed": false
   },
   "outputs": [
    {
     "name": "stdout",
     "output_type": "stream",
     "text": [
      "Train on 2515 samples, validate on 1239 samples\n",
      "Epoch 1/10\n",
      "2515/2515 [==============================] - 7s - loss: 1.4153 - acc: 0.3245 - val_loss: 1.2945 - val_acc: 0.4213\n",
      "Epoch 2/10\n",
      "2515/2515 [==============================] - 7s - loss: 1.1306 - acc: 0.4453 - val_loss: 0.9327 - val_acc: 0.5351\n",
      "Epoch 3/10\n",
      "2515/2515 [==============================] - 7s - loss: 0.9492 - acc: 0.5245 - val_loss: 0.8429 - val_acc: 0.5537\n",
      "Epoch 4/10\n",
      "2515/2515 [==============================] - 7s - loss: 0.8615 - acc: 0.5519 - val_loss: 0.7902 - val_acc: 0.5738\n",
      "Epoch 5/10\n",
      "2515/2515 [==============================] - 7s - loss: 0.8365 - acc: 0.5932 - val_loss: 0.7666 - val_acc: 0.6360\n",
      "Epoch 6/10\n",
      "2515/2515 [==============================] - 7s - loss: 0.7674 - acc: 0.6445 - val_loss: 0.7028 - val_acc: 0.6691\n",
      "Epoch 7/10\n",
      "2515/2515 [==============================] - 7s - loss: 0.7152 - acc: 0.6795 - val_loss: 0.6683 - val_acc: 0.6965\n",
      "Epoch 8/10\n",
      "2515/2515 [==============================] - 7s - loss: 0.6710 - acc: 0.7002 - val_loss: 0.6995 - val_acc: 0.6578\n",
      "Epoch 9/10\n",
      "2515/2515 [==============================] - 7s - loss: 0.6734 - acc: 0.6978 - val_loss: 0.6629 - val_acc: 0.7103\n",
      "Epoch 10/10\n",
      "2515/2515 [==============================] - 7s - loss: 0.6185 - acc: 0.7260 - val_loss: 0.6345 - val_acc: 0.7070\n"
     ]
    },
    {
     "data": {
      "text/plain": [
       "<keras.callbacks.History at 0x7f833bc188d0>"
      ]
     },
     "execution_count": 44,
     "metadata": {},
     "output_type": "execute_result"
    }
   ],
   "source": [
    "emb_model.fit(X_train, y_train, validation_data=(X_test, y_test), nb_epoch=10, batch_size=64)"
   ]
  },
  {
   "cell_type": "markdown",
   "metadata": {},
   "source": [
    "Let's fine-tune the embedding weights - especially since the words we couldn't find in glove just have random embeddings."
   ]
  },
  {
   "cell_type": "code",
   "execution_count": 45,
   "metadata": {
    "collapsed": true
   },
   "outputs": [],
   "source": [
    "emb_model.layers[0].trainable=True"
   ]
  },
  {
   "cell_type": "code",
   "execution_count": 46,
   "metadata": {
    "collapsed": true
   },
   "outputs": [],
   "source": [
    "emb_model.optimizer.lr=1e-4"
   ]
  },
  {
   "cell_type": "code",
   "execution_count": 47,
   "metadata": {
    "collapsed": false
   },
   "outputs": [
    {
     "name": "stdout",
     "output_type": "stream",
     "text": [
      "Train on 2515 samples, validate on 1239 samples\n",
      "Epoch 1/10\n",
      "2515/2515 [==============================] - 7s - loss: 0.5923 - acc: 0.7431 - val_loss: 0.6339 - val_acc: 0.7207\n",
      "Epoch 2/10\n",
      "2515/2515 [==============================] - 7s - loss: 0.5529 - acc: 0.7730 - val_loss: 0.6349 - val_acc: 0.7127\n",
      "Epoch 3/10\n",
      "2515/2515 [==============================] - 7s - loss: 0.5522 - acc: 0.7761 - val_loss: 0.6269 - val_acc: 0.7111\n",
      "Epoch 4/10\n",
      "2515/2515 [==============================] - 7s - loss: 0.5249 - acc: 0.7861 - val_loss: 0.6437 - val_acc: 0.7103\n",
      "Epoch 5/10\n",
      "2515/2515 [==============================] - 7s - loss: 0.4881 - acc: 0.8004 - val_loss: 0.6299 - val_acc: 0.7119\n",
      "Epoch 6/10\n",
      "2515/2515 [==============================] - 7s - loss: 0.4582 - acc: 0.8135 - val_loss: 0.6220 - val_acc: 0.7167\n",
      "Epoch 7/10\n",
      "2515/2515 [==============================] - 7s - loss: 0.4148 - acc: 0.8330 - val_loss: 0.6290 - val_acc: 0.7256\n",
      "Epoch 8/10\n",
      "2515/2515 [==============================] - 7s - loss: 0.4407 - acc: 0.8278 - val_loss: 0.6255 - val_acc: 0.7224\n",
      "Epoch 9/10\n",
      "2515/2515 [==============================] - 7s - loss: 0.3875 - acc: 0.8386 - val_loss: 0.6245 - val_acc: 0.7288\n",
      "Epoch 10/10\n",
      "2515/2515 [==============================] - 7s - loss: 0.3864 - acc: 0.8410 - val_loss: 0.6357 - val_acc: 0.7183\n"
     ]
    },
    {
     "data": {
      "text/plain": [
       "<keras.callbacks.History at 0x7f833df33290>"
      ]
     },
     "execution_count": 47,
     "metadata": {},
     "output_type": "execute_result"
    }
   ],
   "source": [
    "emb_model.fit(X_train, y_train, validation_data=(X_test, y_test), nb_epoch=10, batch_size=64)"
   ]
  },
  {
   "cell_type": "code",
   "execution_count": 48,
   "metadata": {
    "collapsed": true
   },
   "outputs": [],
   "source": [
    "emb_model.layers[0].trainable=False"
   ]
  },
  {
   "cell_type": "code",
   "execution_count": 49,
   "metadata": {
    "collapsed": true
   },
   "outputs": [],
   "source": [
    "emb_model.optimizer.lr=1e-2"
   ]
  },
  {
   "cell_type": "code",
   "execution_count": 50,
   "metadata": {
    "collapsed": false
   },
   "outputs": [
    {
     "name": "stdout",
     "output_type": "stream",
     "text": [
      "Train on 2515 samples, validate on 1239 samples\n",
      "Epoch 1/5\n",
      "2515/2515 [==============================] - 7s - loss: 0.3683 - acc: 0.8604 - val_loss: 0.6309 - val_acc: 0.7207\n",
      "Epoch 2/5\n",
      "2515/2515 [==============================] - 7s - loss: 0.3784 - acc: 0.8561 - val_loss: 0.6264 - val_acc: 0.7312\n",
      "Epoch 3/5\n",
      "2515/2515 [==============================] - 7s - loss: 0.3676 - acc: 0.8640 - val_loss: 0.6252 - val_acc: 0.7288\n",
      "Epoch 4/5\n",
      "2515/2515 [==============================] - 7s - loss: 0.3395 - acc: 0.8708 - val_loss: 0.6466 - val_acc: 0.7248\n",
      "Epoch 5/5\n",
      "2515/2515 [==============================] - 7s - loss: 0.3268 - acc: 0.8751 - val_loss: 0.6619 - val_acc: 0.7191\n"
     ]
    },
    {
     "data": {
      "text/plain": [
       "<keras.callbacks.History at 0x7f833b5ea1d0>"
      ]
     },
     "execution_count": 50,
     "metadata": {},
     "output_type": "execute_result"
    }
   ],
   "source": [
    "emb_model.fit(X_train, y_train, validation_data=(X_test, y_test), nb_epoch=5, batch_size=64)"
   ]
  },
  {
   "cell_type": "markdown",
   "metadata": {},
   "source": [
    "Interestingly, the pretrained embeddings didn't provide any improvement..."
   ]
  },
  {
   "cell_type": "markdown",
   "metadata": {},
   "source": [
    "## Pre-trained vectors + BatchNorm\n",
    "\n",
    "In the lesson 4 wiki notes, the following advice was given:\n",
    "\n",
    "> As discussed last lesson, it's good practice to always normalize our inputs. Instead of manually calculating averages and variances across the entire training set, a much simply approach is to start your Keras model with a Batch Normalization layer. This will handle the input normalization for you, and is a good default starting point.\n",
    "\n",
    "So let's use the previous pre-trained architecture with one slight modification: swapping out the first `Dropout` layer with a `BatchNormalization` layer instead, after the input layer as suggested."
   ]
  },
  {
   "cell_type": "code",
   "execution_count": 51,
   "metadata": {
    "collapsed": true
   },
   "outputs": [],
   "source": [
    "emb = create_emb()"
   ]
  },
  {
   "cell_type": "code",
   "execution_count": 52,
   "metadata": {
    "collapsed": true
   },
   "outputs": [],
   "source": [
    "from keras.layers.normalization import BatchNormalization\n",
    "\n",
    "batch_model = Sequential([\n",
    "    Embedding(vocab_size, 100, input_length=seq_len, dropout=0.2, \n",
    "              weights=[emb], trainable=False),\n",
    "    Dropout(0.25),\n",
    "    Convolution1D(128, 5, border_mode='same', activation='relu'),\n",
    "    Dropout(0.25),\n",
    "    MaxPooling1D(),\n",
    "    Flatten(),\n",
    "    Dense(100, activation='relu'),\n",
    "    BatchNormalization(axis=1),\n",
    "    Dropout(0.7),\n",
    "    Dense(4, activation='softmax')])"
   ]
  },
  {
   "cell_type": "code",
   "execution_count": 53,
   "metadata": {
    "collapsed": false
   },
   "outputs": [
    {
     "name": "stdout",
     "output_type": "stream",
     "text": [
      "____________________________________________________________________________________________________\n",
      "Layer (type)                     Output Shape          Param #     Connected to                     \n",
      "====================================================================================================\n",
      "embedding_4 (Embedding)          (None, 1500, 100)     0           embedding_input_4[0][0]          \n",
      "____________________________________________________________________________________________________\n",
      "dropout_8 (Dropout)              (None, 1500, 100)     0           embedding_4[0][0]                \n",
      "____________________________________________________________________________________________________\n",
      "convolution1d_3 (Convolution1D)  (None, 1500, 128)     64128       dropout_8[0][0]                  \n",
      "____________________________________________________________________________________________________\n",
      "dropout_9 (Dropout)              (None, 1500, 128)     0           convolution1d_3[0][0]            \n",
      "____________________________________________________________________________________________________\n",
      "maxpooling1d_3 (MaxPooling1D)    (None, 750, 128)      0           dropout_9[0][0]                  \n",
      "____________________________________________________________________________________________________\n",
      "flatten_4 (Flatten)              (None, 96000)         0           maxpooling1d_3[0][0]             \n",
      "____________________________________________________________________________________________________\n",
      "dense_7 (Dense)                  (None, 100)           9600100     flatten_4[0][0]                  \n",
      "____________________________________________________________________________________________________\n",
      "batchnormalization_1 (BatchNormal(None, 100)           200         dense_7[0][0]                    \n",
      "____________________________________________________________________________________________________\n",
      "dropout_10 (Dropout)             (None, 100)           0           batchnormalization_1[0][0]       \n",
      "____________________________________________________________________________________________________\n",
      "dense_8 (Dense)                  (None, 4)             404         dropout_10[0][0]                 \n",
      "====================================================================================================\n",
      "Total params: 9664832\n",
      "____________________________________________________________________________________________________\n"
     ]
    }
   ],
   "source": [
    "batch_model.compile(loss='categorical_crossentropy', optimizer=Adam(), metrics=['accuracy'])\n",
    "batch_model.summary()"
   ]
  },
  {
   "cell_type": "code",
   "execution_count": 54,
   "metadata": {
    "collapsed": false
   },
   "outputs": [
    {
     "name": "stdout",
     "output_type": "stream",
     "text": [
      "Train on 2515 samples, validate on 1239 samples\n",
      "Epoch 1/10\n",
      "2515/2515 [==============================] - 7s - loss: 1.7221 - acc: 0.3189 - val_loss: 1.2862 - val_acc: 0.3793\n",
      "Epoch 2/10\n",
      "2515/2515 [==============================] - 7s - loss: 1.3543 - acc: 0.4406 - val_loss: 1.0113 - val_acc: 0.5165\n",
      "Epoch 3/10\n",
      "2515/2515 [==============================] - 7s - loss: 1.1396 - acc: 0.4855 - val_loss: 0.9914 - val_acc: 0.4964\n",
      "Epoch 4/10\n",
      "2515/2515 [==============================] - 7s - loss: 1.0243 - acc: 0.5133 - val_loss: 0.9237 - val_acc: 0.5504\n",
      "Epoch 5/10\n",
      "2515/2515 [==============================] - 7s - loss: 0.9722 - acc: 0.5388 - val_loss: 0.9308 - val_acc: 0.5827\n",
      "Epoch 6/10\n",
      "2515/2515 [==============================] - 7s - loss: 0.8951 - acc: 0.5789 - val_loss: 0.9250 - val_acc: 0.5577\n",
      "Epoch 7/10\n",
      "2515/2515 [==============================] - 7s - loss: 0.8096 - acc: 0.6278 - val_loss: 0.9105 - val_acc: 0.6061\n",
      "Epoch 8/10\n",
      "2515/2515 [==============================] - 7s - loss: 0.7445 - acc: 0.6632 - val_loss: 0.8706 - val_acc: 0.6207\n",
      "Epoch 9/10\n",
      "2515/2515 [==============================] - 7s - loss: 0.6820 - acc: 0.6974 - val_loss: 0.9174 - val_acc: 0.6279\n",
      "Epoch 10/10\n",
      "2515/2515 [==============================] - 7s - loss: 0.6667 - acc: 0.7177 - val_loss: 0.8139 - val_acc: 0.7086\n"
     ]
    },
    {
     "data": {
      "text/plain": [
       "<keras.callbacks.History at 0x7f8338083890>"
      ]
     },
     "execution_count": 54,
     "metadata": {},
     "output_type": "execute_result"
    }
   ],
   "source": [
    "batch_model.fit(X_train, y_train, validation_data=(X_test, y_test), nb_epoch=10, batch_size=64)"
   ]
  },
  {
   "cell_type": "code",
   "execution_count": 55,
   "metadata": {
    "collapsed": true
   },
   "outputs": [],
   "source": [
    "batch_model.layers[0].trainable=True"
   ]
  },
  {
   "cell_type": "code",
   "execution_count": 56,
   "metadata": {
    "collapsed": true
   },
   "outputs": [],
   "source": [
    "batch_model.optimizer.lr=1e-4"
   ]
  },
  {
   "cell_type": "code",
   "execution_count": 57,
   "metadata": {
    "collapsed": false,
    "scrolled": true
   },
   "outputs": [
    {
     "name": "stdout",
     "output_type": "stream",
     "text": [
      "Train on 2515 samples, validate on 1239 samples\n",
      "Epoch 1/10\n",
      "2515/2515 [==============================] - 7s - loss: 0.6056 - acc: 0.7427 - val_loss: 0.8270 - val_acc: 0.6885\n",
      "Epoch 2/10\n",
      "2515/2515 [==============================] - 7s - loss: 0.5679 - acc: 0.7674 - val_loss: 0.7731 - val_acc: 0.6860\n",
      "Epoch 3/10\n",
      "2515/2515 [==============================] - 7s - loss: 0.5519 - acc: 0.7769 - val_loss: 0.7709 - val_acc: 0.7006\n",
      "Epoch 4/10\n",
      "2515/2515 [==============================] - 7s - loss: 0.5315 - acc: 0.7753 - val_loss: 0.7139 - val_acc: 0.7054\n",
      "Epoch 5/10\n",
      "2515/2515 [==============================] - 7s - loss: 0.4923 - acc: 0.7932 - val_loss: 0.7236 - val_acc: 0.7215\n",
      "Epoch 6/10\n",
      "2515/2515 [==============================] - 7s - loss: 0.4918 - acc: 0.8111 - val_loss: 0.6888 - val_acc: 0.7103\n",
      "Epoch 7/10\n",
      "2515/2515 [==============================] - 7s - loss: 0.4599 - acc: 0.8147 - val_loss: 0.6851 - val_acc: 0.7345\n",
      "Epoch 8/10\n",
      "2515/2515 [==============================] - 7s - loss: 0.4082 - acc: 0.8505 - val_loss: 0.6777 - val_acc: 0.7280\n",
      "Epoch 9/10\n",
      "2515/2515 [==============================] - 7s - loss: 0.4040 - acc: 0.8358 - val_loss: 0.6497 - val_acc: 0.7337\n",
      "Epoch 10/10\n",
      "2515/2515 [==============================] - 7s - loss: 0.3690 - acc: 0.8553 - val_loss: 0.6526 - val_acc: 0.7328\n"
     ]
    },
    {
     "data": {
      "text/plain": [
       "<keras.callbacks.History at 0x7f833b31a290>"
      ]
     },
     "execution_count": 57,
     "metadata": {},
     "output_type": "execute_result"
    }
   ],
   "source": [
    "batch_model.fit(X_train, y_train, validation_data=(X_test, y_test), nb_epoch=10, batch_size=64)"
   ]
  },
  {
   "cell_type": "code",
   "execution_count": 58,
   "metadata": {
    "collapsed": true
   },
   "outputs": [],
   "source": [
    "batch_model.layers[0].trainable=False"
   ]
  },
  {
   "cell_type": "code",
   "execution_count": 59,
   "metadata": {
    "collapsed": true
   },
   "outputs": [],
   "source": [
    "batch_model.optimizer.lr=1e-2"
   ]
  },
  {
   "cell_type": "code",
   "execution_count": 60,
   "metadata": {
    "collapsed": false
   },
   "outputs": [
    {
     "name": "stdout",
     "output_type": "stream",
     "text": [
      "Train on 2515 samples, validate on 1239 samples\n",
      "Epoch 1/5\n",
      "2515/2515 [==============================] - 7s - loss: 0.3669 - acc: 0.8604 - val_loss: 0.6471 - val_acc: 0.7296\n",
      "Epoch 2/5\n",
      "2515/2515 [==============================] - 7s - loss: 0.3466 - acc: 0.8569 - val_loss: 0.6595 - val_acc: 0.7272\n",
      "Epoch 3/5\n",
      "2515/2515 [==============================] - 7s - loss: 0.3389 - acc: 0.8740 - val_loss: 0.6757 - val_acc: 0.7167\n",
      "Epoch 4/5\n",
      "2515/2515 [==============================] - 7s - loss: 0.3087 - acc: 0.8859 - val_loss: 0.6360 - val_acc: 0.7393\n",
      "Epoch 5/5\n",
      "2515/2515 [==============================] - 7s - loss: 0.2990 - acc: 0.8867 - val_loss: 0.6459 - val_acc: 0.7256\n"
     ]
    },
    {
     "data": {
      "text/plain": [
       "<keras.callbacks.History at 0x7f8338083ed0>"
      ]
     },
     "execution_count": 60,
     "metadata": {},
     "output_type": "execute_result"
    }
   ],
   "source": [
    "batch_model.fit(X_train, y_train, validation_data=(X_test, y_test), nb_epoch=5, batch_size=64)"
   ]
  },
  {
   "cell_type": "markdown",
   "metadata": {},
   "source": [
    "Nada."
   ]
  },
  {
   "cell_type": "markdown",
   "metadata": {},
   "source": [
    "## Pre-trained vectors III\n",
    "\n",
    "Let's try the model from `pretrained_word_embeddings.py (+Dropout)`"
   ]
  },
  {
   "cell_type": "code",
   "execution_count": 61,
   "metadata": {
    "collapsed": true
   },
   "outputs": [],
   "source": [
    "deep_model = Sequential([\n",
    "    Embedding(vocab_size, 100, input_length=seq_len, weights=[emb], trainable=False),\n",
    "    Dropout(0.25),\n",
    "    Convolution1D(128, 5, activation='relu'),\n",
    "    Dropout(0.25),\n",
    "    MaxPooling1D(5),\n",
    "    Convolution1D(128, 5, activation='relu'),\n",
    "    Dropout(0.25),\n",
    "    MaxPooling1D(5),\n",
    "    Convolution1D(128, 5, activation='relu'),\n",
    "    Dropout(0.25),\n",
    "    MaxPooling1D(5),\n",
    "    Flatten(),\n",
    "    Dense(128, activation='relu'),\n",
    "    Dropout(0.5),\n",
    "    Dense(len(newsgroups.target_names), activation='softmax')\n",
    "])"
   ]
  },
  {
   "cell_type": "code",
   "execution_count": 62,
   "metadata": {
    "collapsed": false
   },
   "outputs": [
    {
     "name": "stdout",
     "output_type": "stream",
     "text": [
      "____________________________________________________________________________________________________\n",
      "Layer (type)                     Output Shape          Param #     Connected to                     \n",
      "====================================================================================================\n",
      "embedding_5 (Embedding)          (None, 1500, 100)     0           embedding_input_5[0][0]          \n",
      "____________________________________________________________________________________________________\n",
      "dropout_11 (Dropout)             (None, 1500, 100)     0           embedding_5[0][0]                \n",
      "____________________________________________________________________________________________________\n",
      "convolution1d_4 (Convolution1D)  (None, 1496, 128)     64128       dropout_11[0][0]                 \n",
      "____________________________________________________________________________________________________\n",
      "dropout_12 (Dropout)             (None, 1496, 128)     0           convolution1d_4[0][0]            \n",
      "____________________________________________________________________________________________________\n",
      "maxpooling1d_4 (MaxPooling1D)    (None, 299, 128)      0           dropout_12[0][0]                 \n",
      "____________________________________________________________________________________________________\n",
      "convolution1d_5 (Convolution1D)  (None, 295, 128)      82048       maxpooling1d_4[0][0]             \n",
      "____________________________________________________________________________________________________\n",
      "dropout_13 (Dropout)             (None, 295, 128)      0           convolution1d_5[0][0]            \n",
      "____________________________________________________________________________________________________\n",
      "maxpooling1d_5 (MaxPooling1D)    (None, 59, 128)       0           dropout_13[0][0]                 \n",
      "____________________________________________________________________________________________________\n",
      "convolution1d_6 (Convolution1D)  (None, 55, 128)       82048       maxpooling1d_5[0][0]             \n",
      "____________________________________________________________________________________________________\n",
      "dropout_14 (Dropout)             (None, 55, 128)       0           convolution1d_6[0][0]            \n",
      "____________________________________________________________________________________________________\n",
      "maxpooling1d_6 (MaxPooling1D)    (None, 11, 128)       0           dropout_14[0][0]                 \n",
      "____________________________________________________________________________________________________\n",
      "flatten_5 (Flatten)              (None, 1408)          0           maxpooling1d_6[0][0]             \n",
      "____________________________________________________________________________________________________\n",
      "dense_9 (Dense)                  (None, 128)           180352      flatten_5[0][0]                  \n",
      "____________________________________________________________________________________________________\n",
      "dropout_15 (Dropout)             (None, 128)           0           dense_9[0][0]                    \n",
      "____________________________________________________________________________________________________\n",
      "dense_10 (Dense)                 (None, 4)             516         dropout_15[0][0]                 \n",
      "====================================================================================================\n",
      "Total params: 409092\n",
      "____________________________________________________________________________________________________\n"
     ]
    }
   ],
   "source": [
    "deep_model.compile(loss='categorical_crossentropy', optimizer=Adam(), metrics=['accuracy'])\n",
    "deep_model.summary()"
   ]
  },
  {
   "cell_type": "code",
   "execution_count": 63,
   "metadata": {
    "collapsed": false
   },
   "outputs": [
    {
     "name": "stdout",
     "output_type": "stream",
     "text": [
      "Train on 2515 samples, validate on 1239 samples\n",
      "Epoch 1/10\n",
      "2515/2515 [==============================] - 7s - loss: 1.2744 - acc: 0.3825 - val_loss: 1.0677 - val_acc: 0.4826\n",
      "Epoch 2/10\n",
      "2515/2515 [==============================] - 7s - loss: 0.9629 - acc: 0.4970 - val_loss: 0.9087 - val_acc: 0.5214\n",
      "Epoch 3/10\n",
      "2515/2515 [==============================] - 7s - loss: 0.8403 - acc: 0.5372 - val_loss: 0.8243 - val_acc: 0.5609\n",
      "Epoch 4/10\n",
      "2515/2515 [==============================] - 7s - loss: 0.8032 - acc: 0.5539 - val_loss: 0.8088 - val_acc: 0.5666\n",
      "Epoch 5/10\n",
      "2515/2515 [==============================] - 7s - loss: 0.8051 - acc: 0.5463 - val_loss: 0.7987 - val_acc: 0.5609\n",
      "Epoch 6/10\n",
      "2515/2515 [==============================] - 7s - loss: 0.7344 - acc: 0.5877 - val_loss: 0.7587 - val_acc: 0.5932\n",
      "Epoch 7/10\n",
      "2515/2515 [==============================] - 7s - loss: 0.7298 - acc: 0.6072 - val_loss: 0.7457 - val_acc: 0.6094\n",
      "Epoch 8/10\n",
      "2515/2515 [==============================] - 7s - loss: 0.6880 - acc: 0.6338 - val_loss: 0.7264 - val_acc: 0.6392\n",
      "Epoch 9/10\n",
      "2515/2515 [==============================] - 7s - loss: 0.6419 - acc: 0.6922 - val_loss: 0.6644 - val_acc: 0.7078\n",
      "Epoch 10/10\n",
      "2515/2515 [==============================] - 7s - loss: 0.5961 - acc: 0.7296 - val_loss: 0.6189 - val_acc: 0.7103\n"
     ]
    },
    {
     "data": {
      "text/plain": [
       "<keras.callbacks.History at 0x7f83314bcbd0>"
      ]
     },
     "execution_count": 63,
     "metadata": {},
     "output_type": "execute_result"
    }
   ],
   "source": [
    "deep_model.fit(X_train, y_train, validation_data=(X_test, y_test), nb_epoch=10, batch_size=64)"
   ]
  },
  {
   "cell_type": "code",
   "execution_count": 64,
   "metadata": {
    "collapsed": true
   },
   "outputs": [],
   "source": [
    "deep_model.layers[0].trainable=True"
   ]
  },
  {
   "cell_type": "code",
   "execution_count": 65,
   "metadata": {
    "collapsed": true
   },
   "outputs": [],
   "source": [
    "deep_model.optimizer.lr=1e-4"
   ]
  },
  {
   "cell_type": "code",
   "execution_count": 66,
   "metadata": {
    "collapsed": false
   },
   "outputs": [
    {
     "name": "stdout",
     "output_type": "stream",
     "text": [
      "Train on 2515 samples, validate on 1239 samples\n",
      "Epoch 1/10\n",
      "2515/2515 [==============================] - 7s - loss: 0.5615 - acc: 0.7443 - val_loss: 0.6742 - val_acc: 0.7175\n",
      "Epoch 2/10\n",
      "2515/2515 [==============================] - 7s - loss: 0.5248 - acc: 0.7734 - val_loss: 0.5936 - val_acc: 0.7554\n",
      "Epoch 3/10\n",
      "2515/2515 [==============================] - 7s - loss: 0.4579 - acc: 0.8024 - val_loss: 0.5693 - val_acc: 0.7587\n",
      "Epoch 4/10\n",
      "2515/2515 [==============================] - 7s - loss: 0.4303 - acc: 0.8223 - val_loss: 0.5713 - val_acc: 0.7312\n",
      "Epoch 5/10\n",
      "2515/2515 [==============================] - 7s - loss: 0.4229 - acc: 0.8147 - val_loss: 0.5951 - val_acc: 0.7490\n",
      "Epoch 6/10\n",
      "2515/2515 [==============================] - 7s - loss: 0.4053 - acc: 0.8278 - val_loss: 0.5761 - val_acc: 0.7385\n",
      "Epoch 7/10\n",
      "2515/2515 [==============================] - 7s - loss: 0.3846 - acc: 0.8366 - val_loss: 0.5642 - val_acc: 0.7708\n",
      "Epoch 8/10\n",
      "2515/2515 [==============================] - 7s - loss: 0.3352 - acc: 0.8636 - val_loss: 0.5569 - val_acc: 0.7667\n",
      "Epoch 9/10\n",
      "2515/2515 [==============================] - 7s - loss: 0.3301 - acc: 0.8600 - val_loss: 0.6049 - val_acc: 0.7506\n",
      "Epoch 10/10\n",
      "2515/2515 [==============================] - 7s - loss: 0.2945 - acc: 0.8855 - val_loss: 0.6132 - val_acc: 0.7498\n"
     ]
    },
    {
     "data": {
      "text/plain": [
       "<keras.callbacks.History at 0x7f83314bcf10>"
      ]
     },
     "execution_count": 66,
     "metadata": {},
     "output_type": "execute_result"
    }
   ],
   "source": [
    "deep_model.fit(X_train, y_train, validation_data=(X_test, y_test), nb_epoch=10, batch_size=64)"
   ]
  },
  {
   "cell_type": "code",
   "execution_count": 67,
   "metadata": {
    "collapsed": true
   },
   "outputs": [],
   "source": [
    "deep_model.optimizer.lr=1e-3"
   ]
  },
  {
   "cell_type": "code",
   "execution_count": 68,
   "metadata": {
    "collapsed": false
   },
   "outputs": [
    {
     "name": "stdout",
     "output_type": "stream",
     "text": [
      "Train on 2515 samples, validate on 1239 samples\n",
      "Epoch 1/10\n",
      "2515/2515 [==============================] - 7s - loss: 0.3149 - acc: 0.8700 - val_loss: 0.5699 - val_acc: 0.7619\n",
      "Epoch 2/10\n",
      "2515/2515 [==============================] - 7s - loss: 0.2921 - acc: 0.8815 - val_loss: 0.6360 - val_acc: 0.7498\n",
      "Epoch 3/10\n",
      "2515/2515 [==============================] - 7s - loss: 0.3134 - acc: 0.8807 - val_loss: 0.5673 - val_acc: 0.7708\n",
      "Epoch 4/10\n",
      "2515/2515 [==============================] - 7s - loss: 0.2430 - acc: 0.9014 - val_loss: 0.5944 - val_acc: 0.7635\n",
      "Epoch 5/10\n",
      "2515/2515 [==============================] - 7s - loss: 0.2447 - acc: 0.9010 - val_loss: 0.5684 - val_acc: 0.7789\n",
      "Epoch 6/10\n",
      "2515/2515 [==============================] - 7s - loss: 0.2369 - acc: 0.9014 - val_loss: 0.5961 - val_acc: 0.7789\n",
      "Epoch 7/10\n",
      "2515/2515 [==============================] - 7s - loss: 0.2092 - acc: 0.9205 - val_loss: 0.5877 - val_acc: 0.7684\n",
      "Epoch 8/10\n",
      "2515/2515 [==============================] - 7s - loss: 0.1836 - acc: 0.9272 - val_loss: 0.6446 - val_acc: 0.7756\n",
      "Epoch 9/10\n",
      "2515/2515 [==============================] - 7s - loss: 0.2002 - acc: 0.9229 - val_loss: 0.5964 - val_acc: 0.7789\n",
      "Epoch 10/10\n",
      "2515/2515 [==============================] - 7s - loss: 0.1778 - acc: 0.9324 - val_loss: 0.6108 - val_acc: 0.7813\n"
     ]
    },
    {
     "data": {
      "text/plain": [
       "<keras.callbacks.History at 0x7f8331a93450>"
      ]
     },
     "execution_count": 68,
     "metadata": {},
     "output_type": "execute_result"
    }
   ],
   "source": [
    "deep_model.fit(X_train, y_train, validation_data=(X_test, y_test), nb_epoch=10, batch_size=64)"
   ]
  },
  {
   "cell_type": "markdown",
   "metadata": {},
   "source": [
    "Better than the first two pretrained embedding models and back to being competitive with the single conv layer with max pooling."
   ]
  },
  {
   "cell_type": "markdown",
   "metadata": {},
   "source": [
    "## Multi-size CNN\n",
    "\n",
    "This is an implementation of a multi-size CNN as shown in Ben Bowles' [excellent blog post](https://quid.com/feed/how-quid-uses-deep-learning-with-small-data)."
   ]
  },
  {
   "cell_type": "code",
   "execution_count": 69,
   "metadata": {
    "collapsed": true
   },
   "outputs": [],
   "source": [
    "from keras.layers import Merge"
   ]
  },
  {
   "cell_type": "markdown",
   "metadata": {},
   "source": [
    "We use the functional API to create multiple conv layers of different sizes, and then concatenate them."
   ]
  },
  {
   "cell_type": "code",
   "execution_count": 70,
   "metadata": {
    "collapsed": false
   },
   "outputs": [],
   "source": [
    "from keras.layers import Input, Merge\n",
    "from keras.models import Model\n",
    "\n",
    "graph_in = Input((vocab_size, 100))\n",
    "convs = [] \n",
    "for fsz in range (3, 6): \n",
    "    x = Convolution1D(64, fsz, border_mode='same', activation='relu')(graph_in)\n",
    "    x = MaxPooling1D()(x) \n",
    "    x = Flatten()(x) \n",
    "    convs.append(x)\n",
    "out = Merge(mode='concat')(convs) \n",
    "graph = Model(graph_in, out) "
   ]
  },
  {
   "cell_type": "code",
   "execution_count": 71,
   "metadata": {
    "collapsed": true
   },
   "outputs": [],
   "source": [
    "emb = create_emb()"
   ]
  },
  {
   "cell_type": "markdown",
   "metadata": {},
   "source": [
    "We then replace the conv/max-pool layer in our original CNN with the concatenated conv layers."
   ]
  },
  {
   "cell_type": "code",
   "execution_count": 72,
   "metadata": {
    "collapsed": true
   },
   "outputs": [],
   "source": [
    "multi = Sequential ([\n",
    "    Embedding(vocab_size, 100, input_length=seq_len, dropout=0.2, weights=[emb]),\n",
    "    Dropout (0.2),\n",
    "    graph,\n",
    "    Dropout (0.5),\n",
    "    Dense (100, activation='relu'),\n",
    "    Dropout (0.7),\n",
    "    Dense (len(newsgroups.target_names), activation='softmax')\n",
    "    ])"
   ]
  },
  {
   "cell_type": "code",
   "execution_count": 73,
   "metadata": {
    "collapsed": false
   },
   "outputs": [
    {
     "name": "stdout",
     "output_type": "stream",
     "text": [
      "____________________________________________________________________________________________________\n",
      "Layer (type)                     Output Shape          Param #     Connected to                     \n",
      "====================================================================================================\n",
      "embedding_6 (Embedding)          (None, 1500, 100)     1000000     embedding_input_6[0][0]          \n",
      "____________________________________________________________________________________________________\n",
      "dropout_16 (Dropout)             (None, 1500, 100)     0           embedding_6[0][0]                \n",
      "____________________________________________________________________________________________________\n",
      "model_1 (Model)                  multiple              76992       dropout_16[0][0]                 \n",
      "____________________________________________________________________________________________________\n",
      "dropout_17 (Dropout)             (None, 144000)        0           model_1[1][0]                    \n",
      "____________________________________________________________________________________________________\n",
      "dense_11 (Dense)                 (None, 100)           14400100    dropout_17[0][0]                 \n",
      "____________________________________________________________________________________________________\n",
      "dropout_18 (Dropout)             (None, 100)           0           dense_11[0][0]                   \n",
      "____________________________________________________________________________________________________\n",
      "dense_12 (Dense)                 (None, 4)             404         dropout_18[0][0]                 \n",
      "====================================================================================================\n",
      "Total params: 15477496\n",
      "____________________________________________________________________________________________________\n"
     ]
    }
   ],
   "source": [
    "multi.compile(loss='categorical_crossentropy', optimizer=Adam(), metrics=['accuracy'])\n",
    "multi.summary()"
   ]
  },
  {
   "cell_type": "code",
   "execution_count": 74,
   "metadata": {
    "collapsed": false
   },
   "outputs": [
    {
     "name": "stdout",
     "output_type": "stream",
     "text": [
      "Train on 2515 samples, validate on 1239 samples\n",
      "Epoch 1/10\n",
      "2515/2515 [==============================] - 11s - loss: 1.3904 - acc: 0.3690 - val_loss: 1.1430 - val_acc: 0.4835\n",
      "Epoch 2/10\n",
      "2515/2515 [==============================] - 11s - loss: 1.0033 - acc: 0.4954 - val_loss: 0.8661 - val_acc: 0.5440\n",
      "Epoch 3/10\n",
      "2515/2515 [==============================] - 11s - loss: 0.8767 - acc: 0.5551 - val_loss: 0.7793 - val_acc: 0.6021\n",
      "Epoch 4/10\n",
      "2515/2515 [==============================] - 11s - loss: 0.7661 - acc: 0.6171 - val_loss: 0.6938 - val_acc: 0.6642\n",
      "Epoch 5/10\n",
      "2515/2515 [==============================] - 11s - loss: 0.6566 - acc: 0.7066 - val_loss: 0.6247 - val_acc: 0.7183\n",
      "Epoch 6/10\n",
      "2515/2515 [==============================] - 11s - loss: 0.5343 - acc: 0.7773 - val_loss: 0.5830 - val_acc: 0.7328\n",
      "Epoch 7/10\n",
      "2515/2515 [==============================] - 11s - loss: 0.4578 - acc: 0.8087 - val_loss: 0.5403 - val_acc: 0.7595\n",
      "Epoch 8/10\n",
      "2515/2515 [==============================] - 11s - loss: 0.3991 - acc: 0.8497 - val_loss: 0.5218 - val_acc: 0.7829\n",
      "Epoch 9/10\n",
      "2515/2515 [==============================] - 11s - loss: 0.3482 - acc: 0.8624 - val_loss: 0.5550 - val_acc: 0.7700\n",
      "Epoch 10/10\n",
      "2515/2515 [==============================] - 11s - loss: 0.3179 - acc: 0.8835 - val_loss: 0.6689 - val_acc: 0.7328\n"
     ]
    },
    {
     "data": {
      "text/plain": [
       "<keras.callbacks.History at 0x7f8329bc03d0>"
      ]
     },
     "execution_count": 74,
     "metadata": {},
     "output_type": "execute_result"
    }
   ],
   "source": [
    "multi.fit(X_train, y_train, validation_data=(X_test, y_test), nb_epoch=10, batch_size=64)"
   ]
  },
  {
   "cell_type": "code",
   "execution_count": 75,
   "metadata": {
    "collapsed": true
   },
   "outputs": [],
   "source": [
    "multi.layers[0].trainable=False"
   ]
  },
  {
   "cell_type": "code",
   "execution_count": 76,
   "metadata": {
    "collapsed": true
   },
   "outputs": [],
   "source": [
    "multi.optimizer.lr=1e-5"
   ]
  },
  {
   "cell_type": "code",
   "execution_count": 77,
   "metadata": {
    "collapsed": false
   },
   "outputs": [
    {
     "name": "stdout",
     "output_type": "stream",
     "text": [
      "Train on 2515 samples, validate on 1239 samples\n",
      "Epoch 1/10\n",
      "2515/2515 [==============================] - 11s - loss: 0.2732 - acc: 0.9014 - val_loss: 0.5192 - val_acc: 0.8006\n",
      "Epoch 2/10\n",
      "2515/2515 [==============================] - 11s - loss: 0.2558 - acc: 0.9062 - val_loss: 0.5460 - val_acc: 0.7893\n",
      "Epoch 3/10\n",
      "2515/2515 [==============================] - 11s - loss: 0.2126 - acc: 0.9201 - val_loss: 0.5266 - val_acc: 0.7990\n",
      "Epoch 4/10\n",
      "2515/2515 [==============================] - 11s - loss: 0.1891 - acc: 0.9316 - val_loss: 0.5566 - val_acc: 0.8031\n",
      "Epoch 5/10\n",
      "2515/2515 [==============================] - 11s - loss: 0.1983 - acc: 0.9284 - val_loss: 0.6024 - val_acc: 0.7926\n",
      "Epoch 6/10\n",
      "2515/2515 [==============================] - 11s - loss: 0.1702 - acc: 0.9412 - val_loss: 0.5883 - val_acc: 0.7934\n",
      "Epoch 7/10\n",
      "2515/2515 [==============================] - 11s - loss: 0.1496 - acc: 0.9475 - val_loss: 0.5539 - val_acc: 0.8216\n",
      "Epoch 8/10\n",
      "2515/2515 [==============================] - 11s - loss: 0.1373 - acc: 0.9475 - val_loss: 0.6857 - val_acc: 0.7942\n",
      "Epoch 9/10\n",
      "2515/2515 [==============================] - 11s - loss: 0.1342 - acc: 0.9483 - val_loss: 0.6381 - val_acc: 0.8152\n",
      "Epoch 10/10\n",
      "2515/2515 [==============================] - 11s - loss: 0.1221 - acc: 0.9555 - val_loss: 0.7280 - val_acc: 0.8071\n"
     ]
    },
    {
     "data": {
      "text/plain": [
       "<keras.callbacks.History at 0x7f8329bc0dd0>"
      ]
     },
     "execution_count": 77,
     "metadata": {},
     "output_type": "execute_result"
    }
   ],
   "source": [
    "multi.fit(X_train, y_train, validation_data=(X_test, y_test), nb_epoch=10, batch_size=64)"
   ]
  },
  {
   "cell_type": "code",
   "execution_count": 78,
   "metadata": {
    "collapsed": true
   },
   "outputs": [],
   "source": [
    "multi.layers[0].trainable=True"
   ]
  },
  {
   "cell_type": "code",
   "execution_count": 79,
   "metadata": {
    "collapsed": true
   },
   "outputs": [],
   "source": [
    "multi.optimizer.lr=1e-2"
   ]
  },
  {
   "cell_type": "code",
   "execution_count": 80,
   "metadata": {
    "collapsed": false
   },
   "outputs": [
    {
     "name": "stdout",
     "output_type": "stream",
     "text": [
      "Train on 2515 samples, validate on 1239 samples\n",
      "Epoch 1/5\n",
      "2515/2515 [==============================] - 11s - loss: 0.1515 - acc: 0.9483 - val_loss: 0.6178 - val_acc: 0.8192\n",
      "Epoch 2/5\n",
      "2515/2515 [==============================] - 11s - loss: 0.1193 - acc: 0.9590 - val_loss: 0.6593 - val_acc: 0.8208\n",
      "Epoch 3/5\n",
      "2515/2515 [==============================] - 11s - loss: 0.1021 - acc: 0.9630 - val_loss: 0.6879 - val_acc: 0.8160\n",
      "Epoch 4/5\n",
      "2515/2515 [==============================] - 11s - loss: 0.1129 - acc: 0.9610 - val_loss: 0.6690 - val_acc: 0.8176\n",
      "Epoch 5/5\n",
      "2515/2515 [==============================] - 11s - loss: 0.1175 - acc: 0.9539 - val_loss: 0.6568 - val_acc: 0.8216\n"
     ]
    },
    {
     "data": {
      "text/plain": [
       "<keras.callbacks.History at 0x7f8329bc0b10>"
      ]
     },
     "execution_count": 80,
     "metadata": {},
     "output_type": "execute_result"
    }
   ],
   "source": [
    "multi.fit(X_train, y_train, validation_data=(X_test, y_test), nb_epoch=5, batch_size=64)"
   ]
  },
  {
   "cell_type": "markdown",
   "metadata": {},
   "source": [
    "Highest deep-learning result so far! And the most comparable to the 'shallow' bag-of-words results that achieved upper-80s.\n",
    "\n",
    "Bonus: this was also the least stressful to watch train because `val_acc` (generally) continued to rise instead of bouncing around like the other models."
   ]
  }
 ],
 "metadata": {
  "anaconda-cloud": {},
  "kernelspec": {
   "display_name": "Python [conda root]",
   "language": "python",
   "name": "conda-root-py"
  },
  "language_info": {
   "codemirror_mode": {
    "name": "ipython",
    "version": 2
   },
   "file_extension": ".py",
   "mimetype": "text/x-python",
   "name": "python",
   "nbconvert_exporter": "python",
   "pygments_lexer": "ipython2",
   "version": "2.7.12"
  }
 },
 "nbformat": 4,
 "nbformat_minor": 1
}
